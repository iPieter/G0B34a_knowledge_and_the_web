{
 "cells": [
  {
   "cell_type": "markdown",
   "metadata": {},
   "source": [
    "# Tokenizing and removing stop words/special characters"
   ]
  },
  {
   "cell_type": "code",
   "execution_count": 1,
   "metadata": {},
   "outputs": [],
   "source": [
    "import gensim\n",
    "import pandas as pd"
   ]
  },
  {
   "cell_type": "code",
   "execution_count": 2,
   "metadata": {},
   "outputs": [
    {
     "data": {
      "text/html": [
       "<div>\n",
       "<style scoped>\n",
       "    .dataframe tbody tr th:only-of-type {\n",
       "        vertical-align: middle;\n",
       "    }\n",
       "\n",
       "    .dataframe tbody tr th {\n",
       "        vertical-align: top;\n",
       "    }\n",
       "\n",
       "    .dataframe thead th {\n",
       "        text-align: right;\n",
       "    }\n",
       "</style>\n",
       "<table border=\"1\" class=\"dataframe\">\n",
       "  <thead>\n",
       "    <tr style=\"text-align: right;\">\n",
       "      <th></th>\n",
       "      <th>reddit_ad_hominem.body</th>\n",
       "      <th>reddit_ad_hominem.ad_hominem</th>\n",
       "    </tr>\n",
       "  </thead>\n",
       "  <tbody>\n",
       "    <tr>\n",
       "      <th>0</th>\n",
       "      <td>What makes corporations different in this case? They have interests too.</td>\n",
       "      <td>0</td>\n",
       "    </tr>\n",
       "    <tr>\n",
       "      <th>1</th>\n",
       "      <td>I'm sorry if your smugness gets in the way. Like I said elsewhere in this thread. Somolia is not close to anything I advocate for so why on earth would I move there? Any time the Somolia \"argument\" is brought up, I instantly know I'm dealing with someone who refuses to learn the difference between a voluntary society and a third world country ravaged by warlords and foreign policies of other countries. If you want a thoughtful response to an argument, make sure you're not comparing Antarctica to the Bahamas. Otherwise, take your circlejerk, \"arguments\" elsewhere. You have contributed absolutely nothing to this thread but ad hominem Attacks and the typical liberal/conservative talking points and almost everyone in here knows it.</td>\n",
       "      <td>1</td>\n",
       "    </tr>\n",
       "    <tr>\n",
       "      <th>2</th>\n",
       "      <td>Basically to believe a patriarchy exists, you must believe that men are maintaining a system of oppression against women, despite knowing the harm it does to both women and men.EG - Wanting to maintain a system that, among other things, condones severe anti-male bias in all facets of the legal system, simply isn't rational. Thus men, being the ones in power, want to oppress women so much they are willing to harm themselves to do it. It'd be like cutting off your own arm so you had something to club someone with.A long time ago one could say it was ignorance, but with how mainstream feminism thoughts are today this can no longer be true. So the actions of men to maintain the patriarchy must also be willful.How can a person believe this, and not hate men?</td>\n",
       "      <td>0</td>\n",
       "    </tr>\n",
       "    <tr>\n",
       "      <th>3</th>\n",
       "      <td>The punishment for heresy was being burned at the stake.</td>\n",
       "      <td>0</td>\n",
       "    </tr>\n",
       "    <tr>\n",
       "      <th>4</th>\n",
       "      <td>No it doesn't. Sex is defined by DNA. DNA cannot be changed from male to female. A sex change is putting lipstick on a pig. It may look different but it's still a pig</td>\n",
       "      <td>0</td>\n",
       "    </tr>\n",
       "  </tbody>\n",
       "</table>\n",
       "</div>"
      ],
      "text/plain": [
       "                                                                                                                                                                                                                                                                                                                                                                                                                                                                                                                                                                                                                                                                                                                                                                        reddit_ad_hominem.body  \\\n",
       "0  What makes corporations different in this case? They have interests too.                                                                                                                                                                                                                                                                                                                                                                                                                                                                                                                                                                                                                                                                                                                      \n",
       "1  I'm sorry if your smugness gets in the way. Like I said elsewhere in this thread. Somolia is not close to anything I advocate for so why on earth would I move there? Any time the Somolia \"argument\" is brought up, I instantly know I'm dealing with someone who refuses to learn the difference between a voluntary society and a third world country ravaged by warlords and foreign policies of other countries. If you want a thoughtful response to an argument, make sure you're not comparing Antarctica to the Bahamas. Otherwise, take your circlejerk, \"arguments\" elsewhere. You have contributed absolutely nothing to this thread but ad hominem Attacks and the typical liberal/conservative talking points and almost everyone in here knows it.                             \n",
       "2  Basically to believe a patriarchy exists, you must believe that men are maintaining a system of oppression against women, despite knowing the harm it does to both women and men.EG - Wanting to maintain a system that, among other things, condones severe anti-male bias in all facets of the legal system, simply isn't rational. Thus men, being the ones in power, want to oppress women so much they are willing to harm themselves to do it. It'd be like cutting off your own arm so you had something to club someone with.A long time ago one could say it was ignorance, but with how mainstream feminism thoughts are today this can no longer be true. So the actions of men to maintain the patriarchy must also be willful.How can a person believe this, and not hate men?   \n",
       "3  The punishment for heresy was being burned at the stake.                                                                                                                                                                                                                                                                                                                                                                                                                                                                                                                                                                                                                                                                                                                                      \n",
       "4  No it doesn't. Sex is defined by DNA. DNA cannot be changed from male to female. A sex change is putting lipstick on a pig. It may look different but it's still a pig                                                                                                                                                                                                                                                                                                                                                                                                                                                                                                                                                                                                                        \n",
       "\n",
       "   reddit_ad_hominem.ad_hominem  \n",
       "0  0                             \n",
       "1  1                             \n",
       "2  0                             \n",
       "3  0                             \n",
       "4  0                             "
      ]
     },
     "execution_count": 2,
     "metadata": {},
     "output_type": "execute_result"
    }
   ],
   "source": [
    "pd.set_option('display.max_colwidth', 0)\n",
    "df = pd.read_csv(\"./ad_hominems_cleaned.csv\")\n",
    "df.head(n=5)"
   ]
  },
  {
   "cell_type": "code",
   "execution_count": 3,
   "metadata": {},
   "outputs": [],
   "source": [
    "def tokenizeIt(df):\n",
    "    for i, line in df.iterrows():\n",
    "        yield gensim.utils.simple_preprocess(str(line[0]))"
   ]
  },
  {
   "cell_type": "code",
   "execution_count": 4,
   "metadata": {},
   "outputs": [],
   "source": [
    "tokenized = tokenizeIt(df)\n",
    "tokenized = list(tokenized)"
   ]
  },
  {
   "cell_type": "code",
   "execution_count": 5,
   "metadata": {},
   "outputs": [
    {
     "name": "stdout",
     "output_type": "stream",
     "text": [
      "['what', 'makes', 'corporations', 'different', 'in', 'this', 'case', 'they', 'have', 'interests', 'too']\n"
     ]
    }
   ],
   "source": [
    "print(tokenized[0])"
   ]
  },
  {
   "cell_type": "code",
   "execution_count": 6,
   "metadata": {},
   "outputs": [
    {
     "data": {
      "text/html": [
       "<div>\n",
       "<style scoped>\n",
       "    .dataframe tbody tr th:only-of-type {\n",
       "        vertical-align: middle;\n",
       "    }\n",
       "\n",
       "    .dataframe tbody tr th {\n",
       "        vertical-align: top;\n",
       "    }\n",
       "\n",
       "    .dataframe thead th {\n",
       "        text-align: right;\n",
       "    }\n",
       "</style>\n",
       "<table border=\"1\" class=\"dataframe\">\n",
       "  <thead>\n",
       "    <tr style=\"text-align: right;\">\n",
       "      <th></th>\n",
       "      <th>reddit_ad_hominem.body</th>\n",
       "      <th>reddit_ad_hominem.ad_hominem</th>\n",
       "    </tr>\n",
       "  </thead>\n",
       "  <tbody>\n",
       "    <tr>\n",
       "      <th>0</th>\n",
       "      <td>[what, makes, corporations, different, in, this, case, they, have, interests, too]</td>\n",
       "      <td>0</td>\n",
       "    </tr>\n",
       "    <tr>\n",
       "      <th>1</th>\n",
       "      <td>[sorry, if, your, smugness, gets, in, the, way, like, said, elsewhere, in, this, thread, somolia, is, not, close, to, anything, advocate, for, so, why, on, earth, would, move, there, any, time, the, somolia, argument, is, brought, up, instantly, know, dealing, with, someone, who, refuses, to, learn, the, difference, between, voluntary, society, and, third, world, country, ravaged, by, warlords, and, foreign, policies, of, other, countries, if, you, want, thoughtful, response, to, an, argument, make, sure, you, re, not, comparing, antarctica, to, the, bahamas, otherwise, take, your, circlejerk, arguments, elsewhere, you, have, contributed, absolutely, nothing, to, this, thread, but, ad, hominem, attacks, ...]</td>\n",
       "      <td>1</td>\n",
       "    </tr>\n",
       "    <tr>\n",
       "      <th>2</th>\n",
       "      <td>[basically, to, believe, patriarchy, exists, you, must, believe, that, men, are, maintaining, system, of, oppression, against, women, despite, knowing, the, harm, it, does, to, both, women, and, men, eg, wanting, to, maintain, system, that, among, other, things, condones, severe, anti, male, bias, in, all, facets, of, the, legal, system, simply, isn, rational, thus, men, being, the, ones, in, power, want, to, oppress, women, so, much, they, are, willing, to, harm, themselves, to, do, it, it, be, like, cutting, off, your, own, arm, so, you, had, something, to, club, someone, with, long, time, ago, one, could, say, it, was, ignorance, but, ...]</td>\n",
       "      <td>0</td>\n",
       "    </tr>\n",
       "    <tr>\n",
       "      <th>3</th>\n",
       "      <td>[the, punishment, for, heresy, was, being, burned, at, the, stake]</td>\n",
       "      <td>0</td>\n",
       "    </tr>\n",
       "    <tr>\n",
       "      <th>4</th>\n",
       "      <td>[no, it, doesn, sex, is, defined, by, dna, dna, cannot, be, changed, from, male, to, female, sex, change, is, putting, lipstick, on, pig, it, may, look, different, but, it, still, pig]</td>\n",
       "      <td>0</td>\n",
       "    </tr>\n",
       "  </tbody>\n",
       "</table>\n",
       "</div>"
      ],
      "text/plain": [
       "                                                                                                                                                                                                                                                                                                                                                                                                                                                                                                                                                                                                                                                                                                                          reddit_ad_hominem.body  \\\n",
       "0  [what, makes, corporations, different, in, this, case, they, have, interests, too]                                                                                                                                                                                                                                                                                                                                                                                                                                                                                                                                                                                                                                                              \n",
       "1  [sorry, if, your, smugness, gets, in, the, way, like, said, elsewhere, in, this, thread, somolia, is, not, close, to, anything, advocate, for, so, why, on, earth, would, move, there, any, time, the, somolia, argument, is, brought, up, instantly, know, dealing, with, someone, who, refuses, to, learn, the, difference, between, voluntary, society, and, third, world, country, ravaged, by, warlords, and, foreign, policies, of, other, countries, if, you, want, thoughtful, response, to, an, argument, make, sure, you, re, not, comparing, antarctica, to, the, bahamas, otherwise, take, your, circlejerk, arguments, elsewhere, you, have, contributed, absolutely, nothing, to, this, thread, but, ad, hominem, attacks, ...]   \n",
       "2  [basically, to, believe, patriarchy, exists, you, must, believe, that, men, are, maintaining, system, of, oppression, against, women, despite, knowing, the, harm, it, does, to, both, women, and, men, eg, wanting, to, maintain, system, that, among, other, things, condones, severe, anti, male, bias, in, all, facets, of, the, legal, system, simply, isn, rational, thus, men, being, the, ones, in, power, want, to, oppress, women, so, much, they, are, willing, to, harm, themselves, to, do, it, it, be, like, cutting, off, your, own, arm, so, you, had, something, to, club, someone, with, long, time, ago, one, could, say, it, was, ignorance, but, ...]                                                                      \n",
       "3  [the, punishment, for, heresy, was, being, burned, at, the, stake]                                                                                                                                                                                                                                                                                                                                                                                                                                                                                                                                                                                                                                                                              \n",
       "4  [no, it, doesn, sex, is, defined, by, dna, dna, cannot, be, changed, from, male, to, female, sex, change, is, putting, lipstick, on, pig, it, may, look, different, but, it, still, pig]                                                                                                                                                                                                                                                                                                                                                                                                                                                                                                                                                        \n",
       "\n",
       "   reddit_ad_hominem.ad_hominem  \n",
       "0  0                             \n",
       "1  1                             \n",
       "2  0                             \n",
       "3  0                             \n",
       "4  0                             "
      ]
     },
     "execution_count": 6,
     "metadata": {},
     "output_type": "execute_result"
    }
   ],
   "source": [
    "df_tokenized = df\n",
    "df_tokenized[\"reddit_ad_hominem.body\"] = tokenized\n",
    "df_tokenized.head(n=5)"
   ]
  },
  {
   "cell_type": "code",
   "execution_count": 7,
   "metadata": {},
   "outputs": [],
   "source": [
    "df_tokenized.to_csv(\"./ad_hominems_cleaned.csv\", sep=',', index=False)"
   ]
  }
 ],
 "metadata": {
  "kernelspec": {
   "display_name": "Python 3",
   "language": "python",
   "name": "python3"
  },
  "language_info": {
   "codemirror_mode": {
    "name": "ipython",
    "version": 3
   },
   "file_extension": ".py",
   "mimetype": "text/x-python",
   "name": "python",
   "nbconvert_exporter": "python",
   "pygments_lexer": "ipython3",
   "version": "3.6.5"
  }
 },
 "nbformat": 4,
 "nbformat_minor": 2
}
