{
 "cells": [
  {
   "cell_type": "markdown",
   "metadata": {},
   "source": [
    "# Cleaning Reddit Dataset\n",
    "Remove quotes, endlines, etc."
   ]
  },
  {
   "cell_type": "code",
   "execution_count": 1,
   "metadata": {},
   "outputs": [],
   "source": [
    "import pandas as pd\n",
    "import numpy as np\n",
    "from cleanData import clean, removeWords"
   ]
  },
  {
   "cell_type": "markdown",
   "metadata": {},
   "source": [
    "Import dataframe and take 2 entries to analyze"
   ]
  },
  {
   "cell_type": "code",
   "execution_count": 2,
   "metadata": {
    "scrolled": false
   },
   "outputs": [
    {
     "name": "stdout",
     "output_type": "stream",
     "text": [
      ">there are arguments that they will consider beneath a serious response.\n",
      "\n",
      "I'm sorry if your smugness gets in the way. \n",
      "\n",
      ">Do you offer a full, thoughtful rebuttal to everyone who tells you to move to Somalia?\n",
      "\n",
      "Like I said elsewhere in this thread. Somolia is not close to anything I advocate for so why on earth would I move there? \n",
      "\n",
      "Any time the Somolia \"argument\" is brought up, I instantly know I'm dealing with someone who refuses to learn the difference between a voluntary society and a third world country ravaged by warlords and foreign policies of other countries. \n",
      "\n",
      "If you want a thoughtful response to an argument, make sure you're not comparing Antarctica to the Bahamas. \n",
      "\n",
      "Otherwise, take your circlejerk, r/politics \"arguments\" elsewhere. \n",
      "\n",
      "You have contributed absolutely nothing to this thread but ad hominem Attacks and the typical liberal/conservative talking points and almost everyone in here knows it. \n",
      "\n",
      "\n",
      "\n",
      "\n",
      "Except [the CDC study](http://www.cdc.gov/ViolencePrevention/pdf/NISVS_Report2010-a.pdf) classifies a man physically forced into vaginal sex as not a rape victim. Only men who were penetreated were considered raped. \n",
      "\n",
      "Instead they were victims of other sexual violence (made to penetrate), but not rape. \n",
      "\n",
      "If you look at the 12 month figures - you would see that 1.1% of men reported being made to penetrate. And an equal 1.1% of women reported being raped in the last 12 months.\n",
      "\n",
      "The 12 month figures are of course far more accurate than the lifetime figures.\n",
      "\n",
      "For domestic violence, it's even more clear - women are just as likely to perpetrate it as men are.\n",
      "\n",
      "http://web.csulb.edu/~mfiebert/assault.htm\n"
     ]
    }
   ],
   "source": [
    "fallacies = pd.read_csv(\"./ad_hominems_cleaned.csv\", sep = \",\", header = 0)\n",
    "fallacies = fallacies[~fallacies.isin([np.nan, np.inf, -np.inf]).any(1)]\n",
    "\n",
    "print(fallacies.loc[1, \"reddit_ad_hominem.body\"] + \"\\n\\n\")\n",
    "print(fallacies.loc[21, \"reddit_ad_hominem.body\"])"
   ]
  },
  {
   "cell_type": "markdown",
   "metadata": {},
   "source": [
    "Cleaning the quotes, URLs, etc.\n",
    "See functions [clean()](cleanData.py) and [removeWords()](cleanData.py)"
   ]
  },
  {
   "cell_type": "code",
   "execution_count": 3,
   "metadata": {},
   "outputs": [],
   "source": [
    "for i in fallacies.index.values:\n",
    "    fallacies.loc[i, \"reddit_ad_hominem.body\"] = clean(fallacies.loc[i, \"reddit_ad_hominem.body\"]);\n",
    "    fallacies.loc[i, \"reddit_ad_hominem.body\"] =  removeWords(fallacies.loc[i, \"reddit_ad_hominem.body\"]);"
   ]
  },
  {
   "cell_type": "markdown",
   "metadata": {},
   "source": [
    "Look again at the cleaned data entries"
   ]
  },
  {
   "cell_type": "code",
   "execution_count": 4,
   "metadata": {},
   "outputs": [
    {
     "name": "stdout",
     "output_type": "stream",
     "text": [
      "I'm sorry if your smugness gets in the way. Like I said elsewhere in this thread. Somolia is not close to anything I advocate for so why on earth would I move there? Any time the Somolia \"argument\" is brought up, I instantly know I'm dealing with someone who refuses to learn the difference between a voluntary society and a third world country ravaged by warlords and foreign policies of other countries. If you want a thoughtful response to an argument, make sure you're not comparing Antarctica to the Bahamas. Otherwise, take your circlejerk, \"arguments\" elsewhere. You have contributed absolutely nothing to this thread but ad hominem Attacks and the typical liberal/conservative talking points and almost everyone in here knows it. \n",
      "\n",
      "\n",
      "Except [the CDC classifies a man physically forced into vaginal sex as not a rape victim. Only men who were penetreated were considered raped. Instead they were victims of other sexual violence (made to penetrate), but not rape. If you look at the 12 month figures - you would see that 1.1% of men reported being made to penetrate. And an equal 1.1% of women reported being raped in the last 12 months.The 12 month figures are of course far more accurate than the lifetime figures.For domestic violence, it's even more clear - women are just as likely to perpetrate it as men\n"
     ]
    }
   ],
   "source": [
    "print(fallacies.loc[1, \"reddit_ad_hominem.body\"] + \"\\n\\n\")\n",
    "print(fallacies.loc[21, \"reddit_ad_hominem.body\"])"
   ]
  },
  {
   "cell_type": "markdown",
   "metadata": {},
   "source": [
    "Export the dataframe"
   ]
  },
  {
   "cell_type": "code",
   "execution_count": 5,
   "metadata": {},
   "outputs": [],
   "source": [
    "fallacies.to_csv(\"./ad_hominems_cleaned_Murilo.csv\", sep=',')"
   ]
  }
 ],
 "metadata": {
  "kernelspec": {
   "display_name": "Python 3",
   "language": "python",
   "name": "python3"
  },
  "language_info": {
   "codemirror_mode": {
    "name": "ipython",
    "version": 3
   },
   "file_extension": ".py",
   "mimetype": "text/x-python",
   "name": "python",
   "nbconvert_exporter": "python",
   "pygments_lexer": "ipython3",
   "version": "3.6.5"
  }
 },
 "nbformat": 4,
 "nbformat_minor": 2
}
