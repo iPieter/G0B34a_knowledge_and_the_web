{
 "cells": [
  {
   "cell_type": "code",
   "execution_count": 14,
   "metadata": {},
   "outputs": [],
   "source": [
    "import numpy as np\n",
    "import pandas as pd\n",
    "from sklearn.feature_extraction.text import TfidfVectorizer\n",
    "\n",
    "general = pd.read_csv(\"../../data/general/ad_hominem_attacks.csv\", sep=\";\")\n",
    "adHominem = pd.read_csv(\"../../data/ad_hominem/reddit_ad_hominem.csv\")\n",
    "\n",
    "general = general[ general[\"Pieter\"] + general[\"Murilo\"] + general[\"Eric\"] >= 2]"
   ]
  },
  {
   "cell_type": "code",
   "execution_count": 15,
   "metadata": {},
   "outputs": [
    {
     "data": {
      "text/html": [
       "<div>\n",
       "<style scoped>\n",
       "    .dataframe tbody tr th:only-of-type {\n",
       "        vertical-align: middle;\n",
       "    }\n",
       "\n",
       "    .dataframe tbody tr th {\n",
       "        vertical-align: top;\n",
       "    }\n",
       "\n",
       "    .dataframe thead th {\n",
       "        text-align: right;\n",
       "    }\n",
       "</style>\n",
       "<table border=\"1\" class=\"dataframe\">\n",
       "  <thead>\n",
       "    <tr style=\"text-align: right;\">\n",
       "      <th></th>\n",
       "      <th>fallacies.df.Topic</th>\n",
       "      <th>fallacies.df.Intended.Fallacy</th>\n",
       "      <th>fallacies.df.Text</th>\n",
       "      <th>Eric</th>\n",
       "      <th>Pieter</th>\n",
       "      <th>Murilo</th>\n",
       "      <th>isAdHominem</th>\n",
       "    </tr>\n",
       "  </thead>\n",
       "  <tbody>\n",
       "    <tr>\n",
       "      <th>0</th>\n",
       "      <td>Are humans to blame for certain animal extinct...</td>\n",
       "      <td>No Fallacy</td>\n",
       "      <td>Yes, human beings have hunted and eaten animal...</td>\n",
       "      <td>1.0</td>\n",
       "      <td>1</td>\n",
       "      <td>1</td>\n",
       "      <td>False</td>\n",
       "    </tr>\n",
       "    <tr>\n",
       "      <th>1</th>\n",
       "      <td>Are humans to blame for certain animal extinct...</td>\n",
       "      <td>No Fallacy</td>\n",
       "      <td>Humans are not to be blamed for animal extinct...</td>\n",
       "      <td>0.0</td>\n",
       "      <td>1</td>\n",
       "      <td>1</td>\n",
       "      <td>False</td>\n",
       "    </tr>\n",
       "    <tr>\n",
       "      <th>7</th>\n",
       "      <td>Are humans to blame for certain animal extinct...</td>\n",
       "      <td>No Fallacy</td>\n",
       "      <td>Humans don't care enough for living beings.</td>\n",
       "      <td>1.0</td>\n",
       "      <td>1</td>\n",
       "      <td>1</td>\n",
       "      <td>False</td>\n",
       "    </tr>\n",
       "    <tr>\n",
       "      <th>9</th>\n",
       "      <td>Are humans to blame for certain animal extinct...</td>\n",
       "      <td>Ad Hominem</td>\n",
       "      <td>Of course. You throw your garbage into the oce...</td>\n",
       "      <td>1.0</td>\n",
       "      <td>1</td>\n",
       "      <td>1</td>\n",
       "      <td>True</td>\n",
       "    </tr>\n",
       "    <tr>\n",
       "      <th>11</th>\n",
       "      <td>Are Quentin Tarantinos movies too violent?</td>\n",
       "      <td>Ad Hominem</td>\n",
       "      <td>Oh now, I'm not going to debate with you... Ha...</td>\n",
       "      <td>1.0</td>\n",
       "      <td>1</td>\n",
       "      <td>1</td>\n",
       "      <td>True</td>\n",
       "    </tr>\n",
       "  </tbody>\n",
       "</table>\n",
       "</div>"
      ],
      "text/plain": [
       "                                   fallacies.df.Topic  \\\n",
       "0   Are humans to blame for certain animal extinct...   \n",
       "1   Are humans to blame for certain animal extinct...   \n",
       "7   Are humans to blame for certain animal extinct...   \n",
       "9   Are humans to blame for certain animal extinct...   \n",
       "11         Are Quentin Tarantinos movies too violent?   \n",
       "\n",
       "   fallacies.df.Intended.Fallacy  \\\n",
       "0                     No Fallacy   \n",
       "1                     No Fallacy   \n",
       "7                     No Fallacy   \n",
       "9                     Ad Hominem   \n",
       "11                    Ad Hominem   \n",
       "\n",
       "                                    fallacies.df.Text  Eric  Pieter  Murilo  \\\n",
       "0   Yes, human beings have hunted and eaten animal...   1.0       1       1   \n",
       "1   Humans are not to be blamed for animal extinct...   0.0       1       1   \n",
       "7         Humans don't care enough for living beings.   1.0       1       1   \n",
       "9   Of course. You throw your garbage into the oce...   1.0       1       1   \n",
       "11  Oh now, I'm not going to debate with you... Ha...   1.0       1       1   \n",
       "\n",
       "    isAdHominem  \n",
       "0         False  \n",
       "1         False  \n",
       "7         False  \n",
       "9          True  \n",
       "11         True  "
      ]
     },
     "execution_count": 15,
     "metadata": {},
     "output_type": "execute_result"
    }
   ],
   "source": [
    "adHominem.shape\n",
    "\n",
    "general[\"isAdHominem\"] = np.where(general[\"fallacies.df.Intended.Fallacy\"] == \"Ad Hominem\",True, False)\n",
    "general.head()"
   ]
  },
  {
   "cell_type": "code",
   "execution_count": 20,
   "metadata": {},
   "outputs": [
    {
     "name": "stdout",
     "output_type": "stream",
     "text": [
      "(382, 7)\n",
      "(29281, 22)\n",
      "(29663, 2)\n"
     ]
    }
   ],
   "source": [
    "df = pd.concat([adHominem['body'], adHominem['ad_hominem']], axis=1, keys=['body', 'isAdHominem'])\n",
    "df = df.append(pd.concat([general['fallacies.df.Text'], general['isAdHominem']], axis=1, keys=['body', 'isAdHominem']))\n",
    "\n",
    "df[\"body\"] = df[\"body\"].astype(str)\n",
    "df[\"isAdHominem\"] = df[\"isAdHominem\"].astype(bool)\n",
    "df = df[~df.isin([np.nan, np.inf, -np.inf]).any(1)]\n",
    "print(general.shape)\n",
    "print(adHominem.shape)\n",
    "print(df.shape)"
   ]
  },
  {
   "cell_type": "code",
   "execution_count": 17,
   "metadata": {},
   "outputs": [
    {
     "name": "stdout",
     "output_type": "stream",
     "text": [
      "In total, the train contains 2765 ad hominems\n",
      "In total, the test contains 1228 ad hominems\n"
     ]
    }
   ],
   "source": [
    "from sklearn.model_selection import train_test_split\n",
    "\n",
    "train, test = train_test_split( df, test_size=0.3, random_state=3)\n",
    "\n",
    "print(\"In total, the train contains\", sum(train[\"isAdHominem\"] == True), \"ad hominems\")\n",
    "print(\"In total, the test contains\", sum(test[\"isAdHominem\"] == True), \"ad hominems\")"
   ]
  },
  {
   "cell_type": "code",
   "execution_count": 18,
   "metadata": {},
   "outputs": [],
   "source": [
    "from sklearn.feature_extraction.text import TfidfVectorizer\n",
    "v = TfidfVectorizer( ngram_range = (1, 4))\n",
    "v.fit(train['body'].values.astype('U'))\n",
    "x_train = v.transform(train['body'].values.astype('U'))\n",
    "x_test = v.transform(test['body'].values.astype('U'))"
   ]
  },
  {
   "cell_type": "code",
   "execution_count": 19,
   "metadata": {},
   "outputs": [
    {
     "data": {
      "text/plain": [
       "(20764, 4323660)"
      ]
     },
     "execution_count": 19,
     "metadata": {},
     "output_type": "execute_result"
    }
   ],
   "source": [
    "x_train.shape #29663"
   ]
  },
  {
   "cell_type": "code",
   "execution_count": null,
   "metadata": {},
   "outputs": [],
   "source": [
    "from sklearn.naive_bayes import MultinomialNB\n",
    "from sklearn.svm import LinearSVC\n",
    "clf = LinearSVC().fit(x_train, train[\"isAdHominem\"])"
   ]
  },
  {
   "cell_type": "code",
   "execution_count": null,
   "metadata": {},
   "outputs": [],
   "source": [
    "import matplotlib.pyplot as plt\n",
    "\n",
    "def plot_confusion_matrix(cm, classes,\n",
    "                          normalize=False,\n",
    "                          title='Confusion matrix',\n",
    "                          cmap=plt.cm.Blues):\n",
    "    \"\"\"\n",
    "    This function prints and plots the confusion matrix.\n",
    "    Normalization can be applied by setting `normalize=True`.\n",
    "    \"\"\"\n",
    "    if normalize:\n",
    "        cm = cm.astype('float') / cm.sum(axis=1)[:, np.newaxis]\n",
    "        print(\"Normalized confusion matrix\")\n",
    "    else:\n",
    "        print('Confusion matrix, without normalization')\n",
    "\n",
    "    print(cm)\n",
    "\n",
    "    plt.imshow(cm, interpolation='nearest', cmap=cmap)\n",
    "    plt.title(title)\n",
    "    plt.colorbar()\n",
    "    tick_marks = np.arange(len(classes))\n",
    "    plt.xticks(tick_marks, classes, rotation=45)\n",
    "    plt.yticks(tick_marks, classes)\n",
    "\n",
    "    fmt = '.2f' if normalize else 'd'\n",
    "    thresh = cm.max() / 2.\n",
    "    \n",
    "    for i, j in itertools.product(range(cm.shape[0]), range(cm.shape[1])):\n",
    "        plt.text(j, i, format(cm[i, j], fmt),\n",
    "                 horizontalalignment=\"center\",\n",
    "                 color=\"white\" if cm[i, j] > thresh else \"black\")\n",
    "        \n",
    "    plt.tight_layout()\n",
    "    plt.ylabel('True label')\n",
    "    plt.xlabel('Predicted label')"
   ]
  },
  {
   "cell_type": "code",
   "execution_count": null,
   "metadata": {},
   "outputs": [],
   "source": [
    "from sklearn.metrics import confusion_matrix\n",
    "import itertools\n",
    "\n",
    "predicted = clf.predict(x_test)\n",
    "\n",
    "# Compute confusion matrix\n",
    "cnf_matrix = confusion_matrix(test[\"isAdHominem\"], predicted)\n",
    "\n",
    "np.set_printoptions(precision=2)\n",
    "\n",
    "# Plot normalized confusion matrix\n",
    "fig = plt.figure()\n",
    "plot_confusion_matrix(cnf_matrix, classes=[\"no ad hominem\", \"ad hominem\"],normalize=False, \n",
    "                      title=\"Confusion matrix for Linear SVM\")\n",
    "\n",
    "#print('plot exported as plt_n.png')\n",
    "#fig.savefig(\"plt_n.png\")\n",
    "\n",
    "# Plot non-normalized confusion matrix\n",
    "fig = plt.figure()\n",
    "plot_confusion_matrix(cnf_matrix, classes=[\"no ad hominem\", \"ad hominem\"],normalize=True, \n",
    "                      title=\"Confusion matrix for Naive Bayes classifier\")\n",
    "\n"
   ]
  },
  {
   "cell_type": "code",
   "execution_count": null,
   "metadata": {},
   "outputs": [],
   "source": [
    "v.vocabulary_"
   ]
  }
 ],
 "metadata": {
  "kernelspec": {
   "display_name": "Python 3",
   "language": "python",
   "name": "python3"
  },
  "language_info": {
   "codemirror_mode": {
    "name": "ipython",
    "version": 3
   },
   "file_extension": ".py",
   "mimetype": "text/x-python",
   "name": "python",
   "nbconvert_exporter": "python",
   "pygments_lexer": "ipython3",
   "version": "3.6.5"
  }
 },
 "nbformat": 4,
 "nbformat_minor": 2
}
