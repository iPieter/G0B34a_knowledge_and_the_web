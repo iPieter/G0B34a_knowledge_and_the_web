{
 "cells": [
  {
   "cell_type": "markdown",
   "metadata": {},
   "source": [
    "# Word2vec model based on Fetahu\n",
    "This model uses a pretrained word2vec to vectorize the paragraphs, the sequential information of the sentences is maintained.\n",
    "\n",
    "A pretrained word2vec can be found on [this github repo](https://github.com/3Top/word2vec-api).\n",
    "\n",
    "The paper this is based on can be found [here](https://arxiv.org/pdf/1811.05740.pdf)."
   ]
  },
  {
   "cell_type": "code",
   "execution_count": 1,
   "metadata": {},
   "outputs": [],
   "source": [
    "import numpy as np\n",
    "import pandas as pd\n",
    "from sklearn.feature_extraction.text import TfidfVectorizer\n",
    "import matplotlib.pyplot as plt\n",
    "from gensim.models import Word2Vec\n",
    "from gensim.test.utils import datapath\n",
    "from gensim.models import KeyedVectors\n",
    "from sklearn.metrics import confusion_matrix\n",
    "from gensim.utils import simple_preprocess\n",
    "import itertools\n",
    "import nltk\n",
    "from gg_doc2vec import read_corpus, ggdoc2vec_train\n",
    "from sklearn.metrics import roc_curve, auc"
   ]
  },
  {
   "cell_type": "markdown",
   "metadata": {},
   "source": [
    "## Download and transform a tagset from NLTK\n",
    "The part-of-speech tags used can be viewed by:"
   ]
  },
  {
   "cell_type": "code",
   "execution_count": 2,
   "metadata": {},
   "outputs": [],
   "source": [
    "#nltk.help.upenn_tagset()"
   ]
  },
  {
   "cell_type": "code",
   "execution_count": 3,
   "metadata": {},
   "outputs": [
    {
     "name": "stdout",
     "output_type": "stream",
     "text": [
      "[nltk_data] Downloading package averaged_perceptron_tagger to\n",
      "[nltk_data]     /home/ubuntu/nltk_data...\n",
      "[nltk_data]   Package averaged_perceptron_tagger is already up-to-\n",
      "[nltk_data]       date!\n"
     ]
    },
    {
     "data": {
      "text/plain": [
       "True"
      ]
     },
     "execution_count": 3,
     "metadata": {},
     "output_type": "execute_result"
    }
   ],
   "source": [
    "nltk.download('averaged_perceptron_tagger')"
   ]
  },
  {
   "cell_type": "code",
   "execution_count": 4,
   "metadata": {},
   "outputs": [
    {
     "name": "stdout",
     "output_type": "stream",
     "text": [
      "[nltk_data] Downloading package tagsets to /home/ubuntu/nltk_data...\n",
      "[nltk_data]   Package tagsets is already up-to-date!\n"
     ]
    },
    {
     "data": {
      "text/plain": [
       "True"
      ]
     },
     "execution_count": 4,
     "metadata": {},
     "output_type": "execute_result"
    }
   ],
   "source": [
    "nltk.download('tagsets')"
   ]
  },
  {
   "cell_type": "code",
   "execution_count": 5,
   "metadata": {},
   "outputs": [
    {
     "name": "stderr",
     "output_type": "stream",
     "text": [
      "/home/ubuntu/anaconda3/envs/tensorflow_p36/lib/python3.6/site-packages/sklearn/preprocessing/label.py:219: DataConversionWarning: A column-vector y was passed when a 1d array was expected. Please change the shape of y to (n_samples, ), for example using ravel().\n",
      "  y = column_or_1d(y, warn=True)\n"
     ]
    }
   ],
   "source": [
    "pos_tags_list = np.array(['CC', 'CD', 'EX', 'FW', 'IN', 'JJ', 'JJR', 'JJS', 'LS', 'MD', 'NN', 'NNS','NNP', 'NNPS', 'PDT', 'POS', 'PRP', 'PRP$', 'RB', 'RBR', 'RBS', 'RP', 'TO', 'UH', 'VB', 'VBD', 'VBG', 'VBN', 'VBP', 'VBZ', 'WDT', 'WP', 'WP$', 'WRB', 'DT', \"''\"] )\n",
    "\n",
    "from sklearn.preprocessing import LabelEncoder, OneHotEncoder\n",
    "\n",
    "# transform to integer\n",
    "X_int = LabelEncoder().fit(pos_tags_list.reshape(-1, 1))"
   ]
  },
  {
   "cell_type": "code",
   "execution_count": 6,
   "metadata": {},
   "outputs": [],
   "source": [
    "df = pd.read_csv(\"../../data/ad_hominem/ad_hominems_cleaned_Murilo.csv\", sep=\",\", index_col=0, header=0, names=[\"body\", \"isAdHominem\"])\n",
    "df = df[~df.isin([np.nan, np.inf, -np.inf, 'nan']).any(1)] ## Remove rows with NaN values"
   ]
  },
  {
   "cell_type": "code",
   "execution_count": 7,
   "metadata": {},
   "outputs": [],
   "source": [
    "df[\"length\"] = df[\"body\"].apply( lambda x: len(simple_preprocess(x, deacc=True)))"
   ]
  },
  {
   "cell_type": "code",
   "execution_count": 8,
   "metadata": {},
   "outputs": [],
   "source": [
    "df.drop(df[df[\"length\"] > 300].index, axis=0, inplace=True)"
   ]
  },
  {
   "cell_type": "code",
   "execution_count": 9,
   "metadata": {},
   "outputs": [
    {
     "data": {
      "text/plain": [
       "(27914, 3)"
      ]
     },
     "execution_count": 9,
     "metadata": {},
     "output_type": "execute_result"
    }
   ],
   "source": [
    "df.shape"
   ]
  },
  {
   "cell_type": "code",
   "execution_count": 10,
   "metadata": {},
   "outputs": [
    {
     "name": "stdout",
     "output_type": "stream",
     "text": [
      "Setting paragraph length at 300 words.\n"
     ]
    }
   ],
   "source": [
    "print(\"Setting paragraph length at {} words.\".format(df[\"length\"].max()))"
   ]
  },
  {
   "cell_type": "code",
   "execution_count": 11,
   "metadata": {},
   "outputs": [
    {
     "name": "stdout",
     "output_type": "stream",
     "text": [
      "In total, the train contains 1672 ad hominems\n",
      "In total, the test contains 713 ad hominems\n"
     ]
    }
   ],
   "source": [
    "from sklearn.model_selection import train_test_split\n",
    "\n",
    "train, test = train_test_split( df, test_size=0.3, random_state=1)\n",
    "\n",
    "print(\"In total, the train contains\", sum(train[\"isAdHominem\"] == True), \"ad hominems\")\n",
    "print(\"In total, the test contains\", sum(test[\"isAdHominem\"] == True), \"ad hominems\")"
   ]
  },
  {
   "cell_type": "code",
   "execution_count": 12,
   "metadata": {},
   "outputs": [],
   "source": [
    "def plot_confusion_matrix(cm, classes,\n",
    "                          normalize=False,\n",
    "                          title='Confusion matrix',\n",
    "                          cmap=plt.cm.Blues):\n",
    "    \"\"\"\n",
    "    This function prints and plots the confusion matrix.\n",
    "    Normalization can be applied by setting `normalize=True`.\n",
    "    \"\"\"\n",
    "    if normalize:\n",
    "        cm = cm.astype('float') / cm.sum(axis=1)[:, np.newaxis]\n",
    "        print(\"Normalized confusion matrix\")\n",
    "    else:\n",
    "        print('Confusion matrix, without normalization')\n",
    "\n",
    "    print(cm)\n",
    "\n",
    "    plt.imshow(cm, interpolation='nearest', cmap=cmap, vmin=0)\n",
    "    plt.title(title)\n",
    "    plt.colorbar()\n",
    "    tick_marks = np.arange(len(classes))\n",
    "    plt.xticks(tick_marks, classes, rotation=45)\n",
    "    plt.yticks(tick_marks, classes)\n",
    "\n",
    "    fmt = '.2f' if normalize else 'd'\n",
    "    thresh = cm.max() / 2.\n",
    "    \n",
    "    for i, j in itertools.product(range(cm.shape[0]), range(cm.shape[1])):\n",
    "        plt.text(j, i, format(cm[i, j], fmt),\n",
    "                 horizontalalignment=\"center\",\n",
    "                 color=\"white\" if cm[i, j] > thresh else \"black\")\n",
    "        \n",
    "    plt.tight_layout()\n",
    "    plt.ylabel('True label')\n",
    "    plt.xlabel('Predicted label')"
   ]
  },
  {
   "cell_type": "code",
   "execution_count": 13,
   "metadata": {},
   "outputs": [
    {
     "name": "stdout",
     "output_type": "stream",
     "text": [
      "importing word2vec\n",
      "imported word2vec\n"
     ]
    }
   ],
   "source": [
    "print(\"importing word2vec\")\n",
    "wv_from_bin = KeyedVectors.load_word2vec_format(\"~/notebooks/word2vec-GoogleNews-vectors/GoogleNews-vectors-negative300.bin.gz\", binary=True)  # C binary format\n",
    "print(\"imported word2vec\")"
   ]
  },
  {
   "cell_type": "code",
   "execution_count": 14,
   "metadata": {},
   "outputs": [],
   "source": [
    "docVectorLength = 500\n",
    "docModel = ggdoc2vec_train(train, vec_size=docVectorLength)"
   ]
  },
  {
   "cell_type": "code",
   "execution_count": 15,
   "metadata": {},
   "outputs": [],
   "source": [
    "def combineData( dataset, maxLength, docVectorLength ):\n",
    "    #dataset[\"length\"] = dataset[\"body\"].apply( lambda x: len(word_tokenize(x)))\n",
    "    #maxLength = dataset[\"length\"].max()    \n",
    "    paragraphRepresentations = np.zeros((len(dataset), maxLength, 300))\n",
    "    docVectors = np.zeros((len(dataset), docVectorLength))\n",
    "    tags = np.zeros((len(dataset), maxLength, len(pos_tags_list)))\n",
    "    \n",
    "    for i, paragraph in enumerate(dataset[\"body\"]):\n",
    "        if (100* i / dataset.shape[0] % 10 == 0):\n",
    "            print(\"{} of {} ({} %)\\r\".format(i, dataset.shape[0], 100* i / dataset.shape[0]))\n",
    "        \n",
    "        # Split the sentence into an array of (cleaned) words\n",
    "        splittedSentence = simple_preprocess(paragraph, deacc=True)\n",
    "        if len(splittedSentence) != 0:\n",
    "            for index, tag in enumerate(X_int.transform(np.array(nltk.pos_tag(splittedSentence))[:,1])):\n",
    "                tags[i, index, tag] = 1.\n",
    "        # Generate docVector first\n",
    "        docVectors[i] = docModel.infer_vector(splittedSentence)\n",
    "        \n",
    "        # Enumerate over the words in the tags-array (col 0 = words, col 1 = POS tags)\n",
    "        for j, word in enumerate(splittedSentence):\n",
    "            #print(\"{}: {} ({})\".format(i, j, word))\n",
    "            if word.lower() in wv_from_bin:\n",
    "                paragraphRepresentations[i, j] = wv_from_bin[word.lower()] \n",
    "    return paragraphRepresentations, docVectors, tags"
   ]
  },
  {
   "cell_type": "code",
   "execution_count": 16,
   "metadata": {},
   "outputs": [
    {
     "name": "stdout",
     "output_type": "stream",
     "text": [
      "Start train data\n",
      "0 of 19539 (0.0 %)\r\n"
     ]
    }
   ],
   "source": [
    "maxLength = df[\"length\"].max() \n",
    "print(\"Start train data\")\n",
    "train_vectors, train_doc_vectors, train_tags = combineData(train, maxLength, docVectorLength)"
   ]
  },
  {
   "cell_type": "code",
   "execution_count": 17,
   "metadata": {},
   "outputs": [
    {
     "name": "stdout",
     "output_type": "stream",
     "text": [
      "0 of 8375 (0.0 %)\n",
      "1675 of 8375 (20.0 %)\n",
      "3350 of 8375 (40.0 %)\n",
      "5025 of 8375 (60.0 %)\n",
      "6700 of 8375 (80.0 %)\n"
     ]
    }
   ],
   "source": [
    "test_vectors, test_doc_vectors, test_tags = combineData(test, maxLength, docVectorLength)"
   ]
  },
  {
   "cell_type": "code",
   "execution_count": 18,
   "metadata": {},
   "outputs": [],
   "source": [
    "batch_size = 50\n",
    "epochs = 6"
   ]
  },
  {
   "cell_type": "markdown",
   "metadata": {},
   "source": [
    "## Fix imbalance\n",
    "Since classes are imbalanced, this needs to be handled. Sklearn offers a nice function, whose weights can then be used in the keras model."
   ]
  },
  {
   "cell_type": "code",
   "execution_count": 19,
   "metadata": {},
   "outputs": [],
   "source": [
    "from sklearn.utils import class_weight\n",
    "class_weights = class_weight.compute_class_weight('balanced',\n",
    "                                                 np.unique(train[\"isAdHominem\"]),\n",
    "                                                 train[\"isAdHominem\"])"
   ]
  },
  {
   "cell_type": "code",
   "execution_count": 20,
   "metadata": {},
   "outputs": [
    {
     "data": {
      "text/plain": [
       "array([0.54679017, 5.84300239])"
      ]
     },
     "execution_count": 20,
     "metadata": {},
     "output_type": "execute_result"
    }
   ],
   "source": [
    "class_weights"
   ]
  },
  {
   "cell_type": "code",
   "execution_count": 21,
   "metadata": {},
   "outputs": [
    {
     "name": "stderr",
     "output_type": "stream",
     "text": [
      "Using TensorFlow backend.\n"
     ]
    }
   ],
   "source": [
    "from keras.layers import Input, Embedding, GRU, Dense, Masking, Bidirectional, concatenate, Dropout,Flatten\n",
    "from keras.models import Model\n",
    "\n",
    "word2vecInput = Input(shape=(maxLength, 300), name='word2vec')\n",
    "doc2vecInput = Input(shape=(docVectorLength,), name='doc2vec')\n",
    "posTagsInput = Input(shape=(maxLength, len(pos_tags_list)), name='pos_tags')\n",
    "\n",
    "# Network for word vectors\n",
    "x = Masking(mask_value=0., input_shape=(maxLength, 300))(word2vecInput)\n",
    "#x = Bidirectional(GRU(100, return_sequences=True), merge_mode='ave')(x) \n",
    "wordout = Bidirectional(GRU(100, activation=\"relu\"), merge_mode='ave')(x)\n",
    "\n",
    "# Add another network for the pos tags\n",
    "x = Masking(mask_value=0., input_shape=(maxLength, len(pos_tags_list)))(posTagsInput)\n",
    "posout = Bidirectional(GRU(100, activation=\"relu\"), merge_mode='ave')(x)\n",
    "\n",
    "# Add word vectors and doc vectors together\n",
    "x = concatenate([wordout, doc2vecInput, posout])\n",
    "x = Dense(64, activation=\"relu\")(x)\n",
    "x = Dropout(0.1)(x)\n",
    "x = Dense(64, activation=\"relu\")(x)\n",
    "x = Dropout(0.1)(x)\n",
    "output = Dense(2, activation=\"sigmoid\", name=\"output\")(x)\n",
    "\n",
    "model = Model(inputs=[word2vecInput, doc2vecInput, posTagsInput], outputs=[output])\n",
    "\n",
    "model.compile(optimizer='adadelta',\n",
    "              loss='binary_crossentropy',\n",
    "              metrics=['binary_accuracy'])"
   ]
  },
  {
   "cell_type": "code",
   "execution_count": 22,
   "metadata": {},
   "outputs": [
    {
     "name": "stdout",
     "output_type": "stream",
     "text": [
      "__________________________________________________________________________________________________\n",
      "Layer (type)                    Output Shape         Param #     Connected to                     \n",
      "==================================================================================================\n",
      "word2vec (InputLayer)           (None, 300, 300)     0                                            \n",
      "__________________________________________________________________________________________________\n",
      "pos_tags (InputLayer)           (None, 300, 36)      0                                            \n",
      "__________________________________________________________________________________________________\n",
      "masking_1 (Masking)             (None, 300, 300)     0           word2vec[0][0]                   \n",
      "__________________________________________________________________________________________________\n",
      "masking_2 (Masking)             (None, 300, 36)      0           pos_tags[0][0]                   \n",
      "__________________________________________________________________________________________________\n",
      "bidirectional_1 (Bidirectional) (None, 100)          240600      masking_1[0][0]                  \n",
      "__________________________________________________________________________________________________\n",
      "doc2vec (InputLayer)            (None, 500)          0                                            \n",
      "__________________________________________________________________________________________________\n",
      "bidirectional_2 (Bidirectional) (None, 100)          82200       masking_2[0][0]                  \n",
      "__________________________________________________________________________________________________\n",
      "concatenate_1 (Concatenate)     (None, 700)          0           bidirectional_1[0][0]            \n",
      "                                                                 doc2vec[0][0]                    \n",
      "                                                                 bidirectional_2[0][0]            \n",
      "__________________________________________________________________________________________________\n",
      "dense_1 (Dense)                 (None, 64)           44864       concatenate_1[0][0]              \n",
      "__________________________________________________________________________________________________\n",
      "dropout_1 (Dropout)             (None, 64)           0           dense_1[0][0]                    \n",
      "__________________________________________________________________________________________________\n",
      "dense_2 (Dense)                 (None, 64)           4160        dropout_1[0][0]                  \n",
      "__________________________________________________________________________________________________\n",
      "dropout_2 (Dropout)             (None, 64)           0           dense_2[0][0]                    \n",
      "__________________________________________________________________________________________________\n",
      "output (Dense)                  (None, 2)            130         dropout_2[0][0]                  \n",
      "==================================================================================================\n",
      "Total params: 371,954\n",
      "Trainable params: 371,954\n",
      "Non-trainable params: 0\n",
      "__________________________________________________________________________________________________\n"
     ]
    }
   ],
   "source": [
    "model.summary()"
   ]
  },
  {
   "cell_type": "code",
   "execution_count": 23,
   "metadata": {},
   "outputs": [
    {
     "name": "stdout",
     "output_type": "stream",
     "text": [
      "Train on 17585 samples, validate on 1954 samples\n",
      "Epoch 1/6\n",
      "17585/17585 [==============================] - 629s 36ms/step - loss: 0.2701 - binary_accuracy: 0.9110 - val_loss: 0.2385 - val_binary_accuracy: 0.9112\n",
      "Epoch 2/6\n",
      "17585/17585 [==============================] - 629s 36ms/step - loss: 0.2144 - binary_accuracy: 0.9197 - val_loss: 0.2229 - val_binary_accuracy: 0.9179\n",
      "Epoch 3/6\n",
      "17585/17585 [==============================] - 630s 36ms/step - loss: 0.1967 - binary_accuracy: 0.9252 - val_loss: 0.2139 - val_binary_accuracy: 0.9209\n",
      "Epoch 4/6\n",
      "17585/17585 [==============================] - 627s 36ms/step - loss: 0.1869 - binary_accuracy: 0.9283 - val_loss: 0.2164 - val_binary_accuracy: 0.9227\n",
      "Epoch 5/6\n",
      "17585/17585 [==============================] - 628s 36ms/step - loss: 0.1735 - binary_accuracy: 0.9328 - val_loss: 0.2080 - val_binary_accuracy: 0.9197\n",
      "Epoch 6/6\n",
      "17585/17585 [==============================] - 618s 35ms/step - loss: 0.1635 - binary_accuracy: 0.9347 - val_loss: 0.2111 - val_binary_accuracy: 0.9245\n"
     ]
    }
   ],
   "source": [
    "history = model.fit(\n",
    "            {'word2vec': train_vectors, 'doc2vec': train_doc_vectors, 'pos_tags': train_tags},\n",
    "            {'output': np.array([1-train[\"isAdHominem\"], train[\"isAdHominem\"]]).T},\n",
    "            epochs=epochs,\n",
    "            batch_size=batch_size,\n",
    "            verbose=1,\n",
    "            validation_split=0.1,\n",
    "            class_weight=class_weights)"
   ]
  },
  {
   "cell_type": "markdown",
   "metadata": {},
   "source": [
    "## Automaticaly determine best threshold\n",
    "To find the best theshold value, all the training data is evaluated and the max value for the AUC is found."
   ]
  },
  {
   "cell_type": "code",
   "execution_count": 24,
   "metadata": {},
   "outputs": [],
   "source": [
    "train_predicted = model.predict({'word2vec': train_vectors, 'doc2vec': train_doc_vectors, 'pos_tags': train_tags})"
   ]
  },
  {
   "cell_type": "code",
   "execution_count": 25,
   "metadata": {},
   "outputs": [],
   "source": [
    "def generate(start, end, stepsize):\n",
    "    steps = (end - start)/stepsize + 1\n",
    "    for x in range(0, int(steps)):\n",
    "        yield start + x*stepsize\n",
    "steps = np.fromiter(generate(0.5, 1.0, 0.01), float)\n",
    "    \n",
    "def getAUC(steps):\n",
    "    for x in steps:\n",
    "        false_positive_rate, true_positive_rate, thresholds = roc_curve(train[\"isAdHominem\"], train_predicted[:,0] < x)\n",
    "        roc_auc = auc(false_positive_rate, true_positive_rate)\n",
    "        yield [x, roc_auc]"
   ]
  },
  {
   "cell_type": "code",
   "execution_count": 26,
   "metadata": {},
   "outputs": [
    {
     "data": {
      "text/plain": [
       "[<matplotlib.lines.Line2D at 0x7f45d26ba550>]"
      ]
     },
     "execution_count": 26,
     "metadata": {},
     "output_type": "execute_result"
    },
    {
     "data": {
      "image/png": "[encoded data removed]",
      "text/plain": [
       "<Figure size 432x288 with 1 Axes>"
      ]
     },
     "metadata": {
      "needs_background": "light"
     },
     "output_type": "display_data"
    }
   ],
   "source": [
    "aucValues = np.array(list(getAUC(steps)), float)\n",
    "plt.plot(aucValues[:,0], aucValues[:,1])\n"
   ]
  },
  {
   "cell_type": "code",
   "execution_count": 27,
   "metadata": {},
   "outputs": [
    {
     "name": "stdout",
     "output_type": "stream",
     "text": [
      "Based on the training data, the threshold is set at 0.89.\n"
     ]
    }
   ],
   "source": [
    "topValue = aucValues[ aucValues[:,1].max() == aucValues[:,1]][0,0]\n",
    "print(\"Based on the training data, the threshold is set at {}.\". format(topValue))"
   ]
  },
  {
   "cell_type": "markdown",
   "metadata": {},
   "source": [
    "## Evaluate on test set"
   ]
  },
  {
   "cell_type": "code",
   "execution_count": 28,
   "metadata": {},
   "outputs": [],
   "source": [
    "test_predicted = model.predict({'word2vec': test_vectors, 'doc2vec': test_doc_vectors, 'pos_tags': test_tags})"
   ]
  },
  {
   "cell_type": "code",
   "execution_count": 32,
   "metadata": {},
   "outputs": [],
   "source": [
    "model.save_weights(\"model_crazyMizedNN-300words.h5\")"
   ]
  },
  {
   "cell_type": "code",
   "execution_count": 29,
   "metadata": {},
   "outputs": [
    {
     "name": "stdout",
     "output_type": "stream",
     "text": [
      "Confusion matrix, without normalization\n",
      "[[6633 1029]\n",
      " [ 199  514]]\n",
      "Normalized confusion matrix\n",
      "[[0.87 0.13]\n",
      " [0.28 0.72]]\n"
     ]
    },
    {
     "data": {
      "image/png": "[encoded data removed]",
      "text/plain": [
       "<Figure size 432x288 with 2 Axes>"
      ]
     },
     "metadata": {
      "needs_background": "light"
     },
     "output_type": "display_data"
    },
    {
     "data": {
      "image/png": "[encoded data removed]",
      "text/plain": [
       "<Figure size 432x288 with 2 Axes>"
      ]
     },
     "metadata": {
      "needs_background": "light"
     },
     "output_type": "display_data"
    }
   ],
   "source": [
    "# Compute confusion matrix\n",
    "cnf_matrix = confusion_matrix(test[\"isAdHominem\"], test_predicted[:,0] < topValue)\n",
    "\n",
    "np.set_printoptions(precision=2)\n",
    "\n",
    "title=\"Confusion matrix for GRU word2vec model and additional doc2vec input\"\n",
    "\n",
    "# Plot normalized confusion matrix\n",
    "fig = plt.figure()\n",
    "plot_confusion_matrix(cnf_matrix, classes=[\"no ad hominem\", \"ad hominem\"],normalize=False, \n",
    "                      title=title)\n",
    "\n",
    "#print('plots exported.png')\n",
    "#fig.savefig(\"model06_not_normalized.png\")\n",
    "\n",
    "# Plot non-normalized confusion matrix\n",
    "fig = plt.figure()\n",
    "plot_confusion_matrix(cnf_matrix, classes=[\"no ad hominem\", \"ad hominem\"],normalize=True, \n",
    "                      title=title)\n",
    "#fig.savefig(\"model06_normalized.png\")"
   ]
  },
  {
   "cell_type": "markdown",
   "metadata": {},
   "source": [
    "## Finally evaluate loss on train and validation set"
   ]
  },
  {
   "cell_type": "code",
   "execution_count": 30,
   "metadata": {},
   "outputs": [
    {
     "data": {
      "image/png": "[encoded data removed]",
      "text/plain": [
       "<Figure size 432x288 with 1 Axes>"
      ]
     },
     "metadata": {
      "needs_background": "light"
     },
     "output_type": "display_data"
    }
   ],
   "source": [
    "plt.plot(history.history['loss'])\n",
    "plt.plot(history.history['val_loss'])\n",
    "plt.title('model loss')\n",
    "plt.ylabel('loss')\n",
    "plt.xlabel('epoch')\n",
    "plt.legend(['train', 'validation'], loc='upper left')\n",
    "plt.show()"
   ]
  },
  {
   "cell_type": "code",
   "execution_count": 31,
   "metadata": {},
   "outputs": [
    {
     "data": {
      "image/png": "[encoded data removed]",
      "text/plain": [
       "<Figure size 432x288 with 1 Axes>"
      ]
     },
     "metadata": {
      "needs_background": "light"
     },
     "output_type": "display_data"
    }
   ],
   "source": [
    "false_positive_rate, true_positive_rate, thresholds = roc_curve(test[\"isAdHominem\"], test_predicted[:,0] < topValue)\n",
    "roc_auc = auc(false_positive_rate, true_positive_rate)\n",
    "plt.title('Receiver Operating Characteristic')\n",
    "plt.plot(false_positive_rate, true_positive_rate,\n",
    "label='AUC = %0.2f'% roc_auc)\n",
    "plt.legend(loc='lower right')\n",
    "plt.plot([0,1],[0,1],'r--')\n",
    "plt.xlim([-0.1,1.2])\n",
    "plt.ylim([-0.1,1.2])\n",
    "plt.ylabel('True Positive Rate')\n",
    "plt.xlabel('False Positive Rate')\n",
    "plt.show()\n"
   ]
  },
  {
   "cell_type": "code",
   "execution_count": null,
   "metadata": {},
   "outputs": [],
   "source": []
  }
 ],
 "metadata": {
  "kernelspec": {
   "display_name": "Python 3",
   "language": "python",
   "name": "python3"
  },
  "language_info": {
   "codemirror_mode": {
    "name": "ipython",
    "version": 3
   },
   "file_extension": ".py",
   "mimetype": "text/x-python",
   "name": "python",
   "nbconvert_exporter": "python",
   "pygments_lexer": "ipython3",
   "version": "3.6.7"
  }
 },
 "nbformat": 4,
 "nbformat_minor": 2
}
