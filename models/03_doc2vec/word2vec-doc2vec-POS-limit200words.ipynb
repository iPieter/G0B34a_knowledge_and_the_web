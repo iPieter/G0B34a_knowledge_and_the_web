{
 "cells": [
  {
   "cell_type": "markdown",
   "metadata": {},
   "source": [
    "# Word2vec model based on Fetahu\n",
    "This model uses a pretrained word2vec to vectorize the paragraphs, the sequential information of the sentences is maintained.\n",
    "\n",
    "A pretrained word2vec can be found on [this github repo](https://github.com/3Top/word2vec-api).\n",
    "\n",
    "The paper this is based on can be found [here](https://arxiv.org/pdf/1811.05740.pdf)."
   ]
  },
  {
   "cell_type": "code",
   "execution_count": 1,
   "metadata": {},
   "outputs": [],
   "source": [
    "import numpy as np\n",
    "import pandas as pd\n",
    "from sklearn.feature_extraction.text import TfidfVectorizer\n",
    "import matplotlib.pyplot as plt\n",
    "from gensim.models import Word2Vec\n",
    "from gensim.test.utils import datapath\n",
    "from gensim.models import KeyedVectors\n",
    "from sklearn.metrics import confusion_matrix\n",
    "from gensim.utils import simple_preprocess\n",
    "import itertools\n",
    "import nltk\n",
    "from gg_doc2vec import read_corpus, ggdoc2vec_train\n",
    "from sklearn.metrics import roc_curve, auc"
   ]
  },
  {
   "cell_type": "markdown",
   "metadata": {},
   "source": [
    "## Download and transform a tagset from NLTK\n",
    "The part-of-speech tags used can be viewed by:"
   ]
  },
  {
   "cell_type": "code",
   "execution_count": 2,
   "metadata": {},
   "outputs": [],
   "source": [
    "#nltk.help.upenn_tagset()"
   ]
  },
  {
   "cell_type": "code",
   "execution_count": 3,
   "metadata": {},
   "outputs": [
    {
     "name": "stderr",
     "output_type": "stream",
     "text": [
      "[nltk_data] Downloading package averaged_perceptron_tagger to\n",
      "[nltk_data]     /Users/pieterdelobelle/nltk_data...\n",
      "[nltk_data]   Package averaged_perceptron_tagger is already up-to-\n",
      "[nltk_data]       date!\n"
     ]
    },
    {
     "data": {
      "text/plain": [
       "True"
      ]
     },
     "execution_count": 3,
     "metadata": {},
     "output_type": "execute_result"
    }
   ],
   "source": [
    "nltk.download('averaged_perceptron_tagger')"
   ]
  },
  {
   "cell_type": "code",
   "execution_count": 4,
   "metadata": {},
   "outputs": [
    {
     "name": "stderr",
     "output_type": "stream",
     "text": [
      "[nltk_data] Downloading package tagsets to\n",
      "[nltk_data]     /Users/pieterdelobelle/nltk_data...\n",
      "[nltk_data]   Package tagsets is already up-to-date!\n"
     ]
    },
    {
     "data": {
      "text/plain": [
       "True"
      ]
     },
     "execution_count": 4,
     "metadata": {},
     "output_type": "execute_result"
    }
   ],
   "source": [
    "nltk.download('tagsets')"
   ]
  },
  {
   "cell_type": "code",
   "execution_count": 5,
   "metadata": {},
   "outputs": [
    {
     "name": "stderr",
     "output_type": "stream",
     "text": [
      "/Library/Frameworks/Python.framework/Versions/3.6/lib/python3.6/site-packages/sklearn/preprocessing/label.py:219: DataConversionWarning: A column-vector y was passed when a 1d array was expected. Please change the shape of y to (n_samples, ), for example using ravel().\n",
      "  y = column_or_1d(y, warn=True)\n"
     ]
    }
   ],
   "source": [
    "pos_tags_list = np.array(['CC', 'CD', 'EX', 'FW', 'IN', 'JJ', 'JJR', 'JJS', 'LS', 'MD', 'NN', 'NNS','NNP', 'NNPS', 'PDT', 'POS', 'PRP', 'PRP$', 'RB', 'RBR', 'RBS', 'RP', 'TO', 'UH', 'VB', 'VBD', 'VBG', 'VBN', 'VBP', 'VBZ', 'WDT', 'WP', 'WP$', 'WRB', 'DT', \"''\"] )\n",
    "\n",
    "from sklearn.preprocessing import LabelEncoder, OneHotEncoder\n",
    "\n",
    "# transform to integer\n",
    "X_int = LabelEncoder().fit(pos_tags_list.reshape(-1, 1))"
   ]
  },
  {
   "cell_type": "code",
   "execution_count": 196,
   "metadata": {},
   "outputs": [],
   "source": [
    "df = pd.read_csv(\"../../data/ad_hominem/ad_hominems_cleaned_Murilo.csv\", sep=\",\", index_col=0, header=0, names=[\"body\", \"isAdHominem\"])\n",
    "df = df[~df.isin([np.nan, np.inf, -np.inf, 'nan']).any(1)] ## Remove rows with NaN values"
   ]
  },
  {
   "cell_type": "code",
   "execution_count": 197,
   "metadata": {},
   "outputs": [],
   "source": [
    "df[\"length\"] = df[\"body\"].apply( lambda x: len(simple_preprocess(x, deacc=True)))"
   ]
  },
  {
   "cell_type": "code",
   "execution_count": 198,
   "metadata": {},
   "outputs": [],
   "source": [
    "df.drop(df[df[\"length\"] > 400].index, axis=0, inplace=True)"
   ]
  },
  {
   "cell_type": "code",
   "execution_count": 199,
   "metadata": {},
   "outputs": [
    {
     "data": {
      "text/plain": [
       "(28435, 3)"
      ]
     },
     "execution_count": 199,
     "metadata": {},
     "output_type": "execute_result"
    }
   ],
   "source": [
    "df.shape"
   ]
  },
  {
   "cell_type": "code",
   "execution_count": 200,
   "metadata": {},
   "outputs": [
    {
     "name": "stdout",
     "output_type": "stream",
     "text": [
      "Setting paragraph length at 400 words.\n"
     ]
    }
   ],
   "source": [
    "print(\"Setting paragraph length at {} words.\".format(df[\"length\"].max()))"
   ]
  },
  {
   "cell_type": "code",
   "execution_count": 225,
   "metadata": {},
   "outputs": [
    {
     "name": "stdout",
     "output_type": "stream",
     "text": [
      "In total, the train contains 1708 ad hominems\n",
      "In total, the test contains 726 ad hominems\n"
     ]
    }
   ],
   "source": [
    "from sklearn.model_selection import train_test_split\n",
    "\n",
    "train, test = train_test_split( df, test_size=0.3, random_state=1)\n",
    "\n",
    "print(\"In total, the train contains\", sum(train[\"isAdHominem\"] == True), \"ad hominems\")\n",
    "print(\"In total, the test contains\", sum(test[\"isAdHominem\"] == True), \"ad hominems\")"
   ]
  },
  {
   "cell_type": "code",
   "execution_count": 224,
   "metadata": {},
   "outputs": [
    {
     "data": {
      "text/plain": [
       "8531"
      ]
     },
     "execution_count": 224,
     "metadata": {},
     "output_type": "execute_result"
    }
   ],
   "source": [
    "len(test)"
   ]
  },
  {
   "cell_type": "code",
   "execution_count": 12,
   "metadata": {},
   "outputs": [],
   "source": [
    "def plot_confusion_matrix(cm, classes,\n",
    "                          normalize=False,\n",
    "                          title='Confusion matrix',\n",
    "                          cmap=plt.cm.Blues):\n",
    "    \"\"\"\n",
    "    This function prints and plots the confusion matrix.\n",
    "    Normalization can be applied by setting `normalize=True`.\n",
    "    \"\"\"\n",
    "    if normalize:\n",
    "        cm = cm.astype('float') / cm.sum(axis=1)[:, np.newaxis]\n",
    "        print(\"Normalized confusion matrix\")\n",
    "    else:\n",
    "        print('Confusion matrix, without normalization')\n",
    "\n",
    "    print(cm)\n",
    "\n",
    "    plt.imshow(cm, interpolation='nearest', cmap=cmap, vmin=0)\n",
    "    plt.title(title)\n",
    "    plt.colorbar()\n",
    "    tick_marks = np.arange(len(classes))\n",
    "    plt.xticks(tick_marks, classes, rotation=45)\n",
    "    plt.yticks(tick_marks, classes)\n",
    "\n",
    "    fmt = '.2f' if normalize else 'd'\n",
    "    thresh = cm.max() / 2.\n",
    "    \n",
    "    for i, j in itertools.product(range(cm.shape[0]), range(cm.shape[1])):\n",
    "        plt.text(j, i, format(cm[i, j], fmt),\n",
    "                 horizontalalignment=\"center\",\n",
    "                 color=\"white\" if cm[i, j] > thresh else \"black\")\n",
    "        \n",
    "    plt.tight_layout()\n",
    "    plt.ylabel('True label')\n",
    "    plt.xlabel('Predicted label')"
   ]
  },
  {
   "cell_type": "code",
   "execution_count": 15,
   "metadata": {},
   "outputs": [
    {
     "name": "stdout",
     "output_type": "stream",
     "text": [
      "importing word2vec\n",
      "imported word2vec\n"
     ]
    }
   ],
   "source": [
    "print(\"importing word2vec\")\n",
    "wv_from_bin = KeyedVectors.load_word2vec_format(\"~/Downloads/GoogleNews-vectors-negative300.bin.gz\", binary=True)  # C binary format\n",
    "print(\"imported word2vec\")"
   ]
  },
  {
   "cell_type": "code",
   "execution_count": 155,
   "metadata": {},
   "outputs": [],
   "source": [
    "docVectorLength = 500\n",
    "docModel = ggdoc2vec_train(train, vec_size=docVectorLength)"
   ]
  },
  {
   "cell_type": "code",
   "execution_count": 24,
   "metadata": {},
   "outputs": [],
   "source": [
    "def combineData( dataset, maxLength, docVectorLength ):\n",
    "    #dataset[\"length\"] = dataset[\"body\"].apply( lambda x: len(word_tokenize(x)))\n",
    "    #maxLength = dataset[\"length\"].max()    \n",
    "    paragraphRepresentations = np.zeros((len(dataset), maxLength, 300))\n",
    "    docVectors = np.zeros((len(dataset), docVectorLength))\n",
    "    tags = np.zeros((len(dataset), maxLength, len(pos_tags_list)))\n",
    "    \n",
    "    for i, paragraph in enumerate(dataset[\"body\"]):\n",
    "        if (100* i / dataset.shape[0] % 10 == 0):\n",
    "            print(\"{} of {} ({} %)\\r\".format(i, dataset.shape[0], 100* i / dataset.shape[0]))\n",
    "        \n",
    "        # Split the sentence into an array of (cleaned) words\n",
    "        splittedSentence = simple_preprocess(paragraph, deacc=True)\n",
    "        if len(splittedSentence) != 0:\n",
    "            for index, tag in enumerate(X_int.transform(np.array(nltk.pos_tag(splittedSentence))[:,1])):\n",
    "                tags[i, index, tag] = 1.\n",
    "        # Generate docVector first\n",
    "        docVectors[i] = docModel.infer_vector(splittedSentence)\n",
    "        \n",
    "        # Enumerate over the words in the tags-array (col 0 = words, col 1 = POS tags)\n",
    "        for j, word in enumerate(splittedSentence):\n",
    "            #print(\"{}: {} ({})\".format(i, j, word))\n",
    "            if word.lower() in wv_from_bin:\n",
    "                paragraphRepresentations[i, j] = wv_from_bin[word.lower()] \n",
    "    return paragraphRepresentations, docVectors, tags"
   ]
  },
  {
   "cell_type": "code",
   "execution_count": 202,
   "metadata": {},
   "outputs": [
    {
     "name": "stdout",
     "output_type": "stream",
     "text": [
      "Start train data\n",
      "0 of 19904 (0.0 %)\n",
      "9952 of 19904 (50.0 %)\n"
     ]
    }
   ],
   "source": [
    "maxLength = df[\"length\"].max() \n",
    "print(\"Start train data\")\n",
    "train_vectors, train_doc_vectors, train_tags = combineData(train, maxLength, docVectorLength)"
   ]
  },
  {
   "cell_type": "code",
   "execution_count": 203,
   "metadata": {},
   "outputs": [
    {
     "name": "stdout",
     "output_type": "stream",
     "text": [
      "0 of 8531 (0.0 %)\n"
     ]
    }
   ],
   "source": [
    "test_vectors, test_doc_vectors, test_tags = combineData(test, maxLength, docVectorLength)"
   ]
  },
  {
   "cell_type": "code",
   "execution_count": 76,
   "metadata": {},
   "outputs": [],
   "source": [
    "batch_size = 50\n",
    "epochs = 6"
   ]
  },
  {
   "cell_type": "markdown",
   "metadata": {},
   "source": [
    "## Fix imbalance\n",
    "Since classes are imbalanced, this needs to be handled. Sklearn offers a nice function, whose weights can then be used in the keras model."
   ]
  },
  {
   "cell_type": "code",
   "execution_count": 77,
   "metadata": {},
   "outputs": [],
   "source": [
    "from sklearn.utils import class_weight\n",
    "class_weights = class_weight.compute_class_weight('balanced',\n",
    "                                                 np.unique(train[\"isAdHominem\"]),\n",
    "                                                 train[\"isAdHominem\"])"
   ]
  },
  {
   "cell_type": "code",
   "execution_count": 78,
   "metadata": {},
   "outputs": [
    {
     "data": {
      "text/plain": [
       "array([0.55, 5.84])"
      ]
     },
     "execution_count": 78,
     "metadata": {},
     "output_type": "execute_result"
    }
   ],
   "source": [
    "class_weights"
   ]
  },
  {
   "cell_type": "code",
   "execution_count": 18,
   "metadata": {},
   "outputs": [
    {
     "name": "stderr",
     "output_type": "stream",
     "text": [
      "Using TensorFlow backend.\n"
     ]
    }
   ],
   "source": [
    "from keras.layers import Input, Embedding, GRU, Dense, Masking, Bidirectional, concatenate, Dropout,Flatten\n",
    "from keras.models import Model"
   ]
  },
  {
   "cell_type": "code",
   "execution_count": 79,
   "metadata": {},
   "outputs": [],
   "source": [
    "word2vecInput = Input(shape=(maxLength, 300), name='word2vec')\n",
    "doc2vecInput = Input(shape=(docVectorLength,), name='doc2vec')\n",
    "posTagsInput = Input(shape=(maxLength, len(pos_tags_list)), name='pos_tags')\n",
    "\n",
    "# Network for word vectors\n",
    "x = Masking(mask_value=0., input_shape=(maxLength, 300))(word2vecInput)\n",
    "#x = Bidirectional(GRU(100, return_sequences=True), merge_mode='ave')(x) \n",
    "wordout = Bidirectional(GRU(100, activation=\"relu\"), merge_mode='ave')(x)\n",
    "\n",
    "# Add another network for the pos tags\n",
    "x = Masking(mask_value=0., input_shape=(maxLength, len(pos_tags_list)))(posTagsInput)\n",
    "posout = Bidirectional(GRU(100, activation=\"relu\"), merge_mode='ave')(x)\n",
    "\n",
    "# Add word vectors and doc vectors together\n",
    "x = concatenate([wordout, doc2vecInput, posout])\n",
    "x = Dense(64, activation=\"relu\")(x)\n",
    "x = Dropout(0.1)(x)\n",
    "x = Dense(64, activation=\"relu\")(x)\n",
    "x = Dropout(0.1)(x)\n",
    "output = Dense(2, activation=\"sigmoid\", name=\"output\")(x)\n",
    "\n",
    "model = Model(inputs=[word2vecInput, doc2vecInput, posTagsInput], outputs=[output])\n",
    "\n",
    "model.compile(optimizer='adadelta',\n",
    "              loss='binary_crossentropy',\n",
    "              metrics=['binary_accuracy'])"
   ]
  },
  {
   "cell_type": "code",
   "execution_count": 80,
   "metadata": {},
   "outputs": [
    {
     "name": "stdout",
     "output_type": "stream",
     "text": [
      "__________________________________________________________________________________________________\n",
      "Layer (type)                    Output Shape         Param #     Connected to                     \n",
      "==================================================================================================\n",
      "word2vec (InputLayer)           (None, 250, 300)     0                                            \n",
      "__________________________________________________________________________________________________\n",
      "pos_tags (InputLayer)           (None, 250, 36)      0                                            \n",
      "__________________________________________________________________________________________________\n",
      "masking_5 (Masking)             (None, 250, 300)     0           word2vec[0][0]                   \n",
      "__________________________________________________________________________________________________\n",
      "masking_6 (Masking)             (None, 250, 36)      0           pos_tags[0][0]                   \n",
      "__________________________________________________________________________________________________\n",
      "bidirectional_5 (Bidirectional) (None, 100)          240600      masking_5[0][0]                  \n",
      "__________________________________________________________________________________________________\n",
      "doc2vec (InputLayer)            (None, 500)          0                                            \n",
      "__________________________________________________________________________________________________\n",
      "bidirectional_6 (Bidirectional) (None, 100)          82200       masking_6[0][0]                  \n",
      "__________________________________________________________________________________________________\n",
      "concatenate_3 (Concatenate)     (None, 700)          0           bidirectional_5[0][0]            \n",
      "                                                                 doc2vec[0][0]                    \n",
      "                                                                 bidirectional_6[0][0]            \n",
      "__________________________________________________________________________________________________\n",
      "dense_5 (Dense)                 (None, 64)           44864       concatenate_3[0][0]              \n",
      "__________________________________________________________________________________________________\n",
      "dropout_5 (Dropout)             (None, 64)           0           dense_5[0][0]                    \n",
      "__________________________________________________________________________________________________\n",
      "dense_6 (Dense)                 (None, 64)           4160        dropout_5[0][0]                  \n",
      "__________________________________________________________________________________________________\n",
      "dropout_6 (Dropout)             (None, 64)           0           dense_6[0][0]                    \n",
      "__________________________________________________________________________________________________\n",
      "output (Dense)                  (None, 2)            130         dropout_6[0][0]                  \n",
      "==================================================================================================\n",
      "Total params: 371,954\n",
      "Trainable params: 371,954\n",
      "Non-trainable params: 0\n",
      "__________________________________________________________________________________________________\n"
     ]
    }
   ],
   "source": [
    "model.summary()"
   ]
  },
  {
   "cell_type": "code",
   "execution_count": 81,
   "metadata": {},
   "outputs": [
    {
     "name": "stdout",
     "output_type": "stream",
     "text": [
      "Train on 17307 samples, validate on 1923 samples\n",
      "Epoch 1/6\n",
      "17307/17307 [==============================] - 505s 29ms/step - loss: 0.2727 - binary_accuracy: 0.9125 - val_loss: 0.2336 - val_binary_accuracy: 0.9145\n",
      "Epoch 2/6\n",
      "17307/17307 [==============================] - 501s 29ms/step - loss: 0.2171 - binary_accuracy: 0.9182 - val_loss: 0.2348 - val_binary_accuracy: 0.9160\n",
      "Epoch 3/6\n",
      "17307/17307 [==============================] - 502s 29ms/step - loss: 0.2012 - binary_accuracy: 0.9232 - val_loss: 0.2431 - val_binary_accuracy: 0.9007\n",
      "Epoch 4/6\n",
      "17307/17307 [==============================] - 504s 29ms/step - loss: 0.1875 - binary_accuracy: 0.9261 - val_loss: 0.2217 - val_binary_accuracy: 0.9137\n",
      "Epoch 5/6\n",
      "17307/17307 [==============================] - 503s 29ms/step - loss: 0.1752 - binary_accuracy: 0.9294 - val_loss: 0.2191 - val_binary_accuracy: 0.9223\n",
      "Epoch 6/6\n",
      "17307/17307 [==============================] - 508s 29ms/step - loss: 0.1651 - binary_accuracy: 0.9318 - val_loss: 0.2317 - val_binary_accuracy: 0.9249\n"
     ]
    }
   ],
   "source": [
    "history = model.fit(\n",
    "            {'word2vec': train_vectors, 'doc2vec': train_doc_vectors, 'pos_tags': train_tags},\n",
    "            {'output': np.array([1-train[\"isAdHominem\"], train[\"isAdHominem\"]]).T},\n",
    "            epochs=epochs,\n",
    "            batch_size=batch_size,\n",
    "            verbose=1,\n",
    "            validation_split=0.1,\n",
    "            class_weight=class_weights)"
   ]
  },
  {
   "cell_type": "markdown",
   "metadata": {},
   "source": [
    "## Automaticaly determine best threshold\n",
    "To find the best theshold value, all the training data is evaluated and the max value for the AUC is found."
   ]
  },
  {
   "cell_type": "code",
   "execution_count": 229,
   "metadata": {},
   "outputs": [],
   "source": [
    "train_predicted = model.predict({'word2vec': train_vectors, 'doc2vec': train_doc_vectors, 'pos_tags': train_tags})"
   ]
  },
  {
   "cell_type": "code",
   "execution_count": 230,
   "metadata": {},
   "outputs": [],
   "source": [
    "def generate(start, end, stepsize):\n",
    "    steps = (end - start)/stepsize + 1\n",
    "    for x in range(0, int(steps)):\n",
    "        yield start + x*stepsize\n",
    "steps = np.fromiter(generate(0.5, 1.0, 0.01), float)\n",
    "    \n",
    "def getAUC(steps):\n",
    "    for x in steps:\n",
    "        false_positive_rate, true_positive_rate, thresholds = roc_curve(train[\"isAdHominem\"], train_predicted[:,0] < x)\n",
    "        roc_auc = auc(false_positive_rate, true_positive_rate)\n",
    "        yield [x, roc_auc]"
   ]
  },
  {
   "cell_type": "code",
   "execution_count": 231,
   "metadata": {},
   "outputs": [
    {
     "data": {
      "text/plain": [
       "[<matplotlib.lines.Line2D at 0x81acb5710>]"
      ]
     },
     "execution_count": 231,
     "metadata": {},
     "output_type": "execute_result"
    },
    {
     "data": {
      "image/png": "[encoded data removed]",
      "text/plain": [
       "<Figure size 640x440 with 1 Axes>"
      ]
     },
     "metadata": {},
     "output_type": "display_data"
    }
   ],
   "source": [
    "aucValues = np.array(list(getAUC(steps)), float)\n",
    "plt.plot(aucValues[:,0], aucValues[:,1])\n"
   ]
  },
  {
   "cell_type": "code",
   "execution_count": 232,
   "metadata": {},
   "outputs": [
    {
     "name": "stdout",
     "output_type": "stream",
     "text": [
      "Based on the training data, the threshold is set at 0.54.\n"
     ]
    }
   ],
   "source": [
    "topValue = aucValues[ aucValues[:,1].max() == aucValues[:,1]][0,0]\n",
    "print(\"Based on the training data, the threshold is set at {}.\". format(topValue))"
   ]
  },
  {
   "cell_type": "markdown",
   "metadata": {},
   "source": [
    "## Evaluate on test set"
   ]
  },
  {
   "cell_type": "code",
   "execution_count": 227,
   "metadata": {},
   "outputs": [],
   "source": [
    "test_predicted = model.predict({'word2vec': test_vectors, 'doc2vec': test_doc_vectors, 'pos_tags': test_tags})"
   ]
  },
  {
   "cell_type": "code",
   "execution_count": 131,
   "metadata": {},
   "outputs": [
    {
     "data": {
      "text/plain": [
       "['seaborn-dark',\n",
       " 'seaborn-darkgrid',\n",
       " 'seaborn-ticks',\n",
       " 'fivethirtyeight',\n",
       " 'seaborn-whitegrid',\n",
       " 'classic',\n",
       " '_classic_test',\n",
       " 'fast',\n",
       " 'seaborn-talk',\n",
       " 'seaborn-dark-palette',\n",
       " 'seaborn-bright',\n",
       " 'seaborn-pastel',\n",
       " 'grayscale',\n",
       " 'seaborn-notebook',\n",
       " 'ggplot',\n",
       " 'seaborn-colorblind',\n",
       " 'seaborn-muted',\n",
       " 'seaborn',\n",
       " 'Solarize_Light2',\n",
       " 'seaborn-paper',\n",
       " 'bmh',\n",
       " 'tableau-colorblind10',\n",
       " 'seaborn-white',\n",
       " 'dark_background',\n",
       " 'seaborn-poster',\n",
       " 'seaborn-deep']"
      ]
     },
     "execution_count": 131,
     "metadata": {},
     "output_type": "execute_result"
    }
   ],
   "source": [
    "plt.style.available"
   ]
  },
  {
   "cell_type": "code",
   "execution_count": 236,
   "metadata": {},
   "outputs": [
    {
     "name": "stdout",
     "output_type": "stream",
     "text": [
      "Confusion matrix, without normalization\n",
      "[[6210 1595]\n",
      " [  94  632]]\n",
      "Normalized confusion matrix\n",
      "[[0.8  0.2 ]\n",
      " [0.13 0.87]]\n"
     ]
    },
    {
     "data": {
      "image/png": "[encoded data removed]",
      "text/plain": [
       "<Figure size 512x352 with 2 Axes>"
      ]
     },
     "metadata": {},
     "output_type": "display_data"
    },
    {
     "data": {
      "image/png": "[encoded data removed]",
      "text/plain": [
       "<Figure size 512x352 with 2 Axes>"
      ]
     },
     "metadata": {},
     "output_type": "display_data"
    }
   ],
   "source": [
    "import matplotlib.pyplot as plt\n",
    "plt.style.use('seaborn-white')\n",
    "# Compute confusion matrix\n",
    "cnf_matrix = confusion_matrix(test[\"isAdHominem\"], test_predicted[:,0] < topValue)\n",
    "\n",
    "np.set_printoptions(precision=2)\n",
    "\n",
    "title=\"Confusion matrix for GRU word2vec model and additional doc2vec input\"\n",
    "\n",
    "# Plot normalized confusion matrix\n",
    "fig = plt.figure()\n",
    "#fig.set_size_inches(6,6)\n",
    "\n",
    "plot_confusion_matrix(cnf_matrix, classes=[\"no ad hominem\", \"ad hominem\"],normalize=False, \n",
    "                      title=title)\n",
    "\n",
    "#print('plots exported.png')\n",
    "#fig.savefig(\"model06_not_normalized.png\")\n",
    "\n",
    "# Plot non-normalized confusion matrix\n",
    "fig = plt.figure()\n",
    "#fig.set_size_inches(6,6)\n",
    "\n",
    "plot_confusion_matrix(cnf_matrix, classes=[\"no ad hominem\", \"ad hominem\"],normalize=True, \n",
    "                      title=title)\n",
    "#fig.savefig(\"normalized_confusion.png\")"
   ]
  },
  {
   "cell_type": "markdown",
   "metadata": {},
   "source": [
    "## Finally evaluate loss on train and validation set"
   ]
  },
  {
   "cell_type": "code",
   "execution_count": 30,
   "metadata": {},
   "outputs": [
    {
     "data": {
      "image/png": "[encoded data removed]",
      "text/plain": [
       "<Figure size 432x288 with 1 Axes>"
      ]
     },
     "metadata": {
      "needs_background": "light"
     },
     "output_type": "display_data"
    }
   ],
   "source": [
    "plt.plot(history.history['loss'])\n",
    "plt.plot(history.history['val_loss'])\n",
    "plt.title('model loss')\n",
    "plt.ylabel('loss')\n",
    "plt.xlabel('epoch')\n",
    "plt.legend(['train', 'validation'], loc='upper left')\n",
    "plt.show()"
   ]
  },
  {
   "cell_type": "code",
   "execution_count": 237,
   "metadata": {},
   "outputs": [
    {
     "data": {
      "image/png": "[encoded data removed]",
      "text/plain": [
       "<Figure size 560x360 with 1 Axes>"
      ]
     },
     "metadata": {},
     "output_type": "display_data"
    }
   ],
   "source": [
    "import matplotlib.pyplot as plt\n",
    "\n",
    "false_positive_rate, true_positive_rate, thresholds = roc_curve(test[\"isAdHominem\"], 1-test_predicted[:,0])\n",
    "roc_auc = auc(false_positive_rate, true_positive_rate)\n",
    "import seaborn as sns\n",
    "fig = plt.figure()\n",
    "fig.set_size_inches(7,4.5)\n",
    "plt.style.use('seaborn-whitegrid')\n",
    "plt.title('Receiver Operating Characteristic')\n",
    "plt.plot(false_positive_rate, true_positive_rate,\n",
    "label='AUC = %0.2f'% roc_auc,  linewidth=3)\n",
    "plt.legend(loc='lower right')\n",
    "plt.plot([0,1],[0,1],'--', linewidth=3)\n",
    "plt.xlim([0, 1])\n",
    "plt.ylim([0, 1])\n",
    "plt.ylabel('True Positive Rate')\n",
    "plt.xlabel('False Positive Rate')\n",
    "plt.tight_layout()\n",
    "plt.show()\n",
    "fig.savefig(\"roc_curve.png\", dpi=300,  transparent=True)"
   ]
  },
  {
   "cell_type": "code",
   "execution_count": 16,
   "metadata": {},
   "outputs": [],
   "source": [
    "def create_model():  \n",
    "    word2vecInput = Input(shape=(maxLength, 300), name='word2vec')\n",
    "    doc2vecInput = Input(shape=(docVectorLength,), name='doc2vec')\n",
    "    posTagsInput = Input(shape=(maxLength, len(pos_tags_list)), name='pos_tags')\n",
    "\n",
    "    # Network for word vectors\n",
    "    x = Masking(mask_value=0., input_shape=(maxLength, 300))(word2vecInput)\n",
    "    #x = Bidirectional(GRU(100, return_sequences=True), merge_mode='ave')(x) \n",
    "    wordout = Bidirectional(GRU(100, activation=\"relu\"), merge_mode='ave')(x)\n",
    "\n",
    "    # Add another network for the pos tags\n",
    "    x = Masking(mask_value=0., input_shape=(maxLength, len(pos_tags_list)))(posTagsInput)\n",
    "    posout = Bidirectional(GRU(100, activation=\"relu\"), merge_mode='ave')(x)\n",
    "\n",
    "    # Add word vectors and doc vectors together\n",
    "    x = concatenate([wordout, doc2vecInput, posout])\n",
    "    x = Dense(64, activation=\"relu\")(x)\n",
    "    x = Dropout(0.1)(x)\n",
    "    x = Dense(64, activation=\"relu\")(x)\n",
    "    x = Dropout(0.1)(x)\n",
    "    output = Dense(2, activation=\"sigmoid\", name=\"output\")(x)\n",
    "\n",
    "    model = Model(inputs=[word2vecInput, doc2vecInput, posTagsInput], outputs=[output])\n",
    "\n",
    "    model.compile(optimizer='adadelta',\n",
    "                loss='binary_crossentropy',\n",
    "                metrics=['binary_accuracy'])\n",
    "\n",
    "    return model"
   ]
  },
  {
   "cell_type": "code",
   "execution_count": 226,
   "metadata": {},
   "outputs": [],
   "source": [
    "model = create_model()\n",
    "#model.load_weights('models/03_doc2vec/model08.h5')\n",
    "model.load_weights('../../model_catastrophic_10.h5')"
   ]
  },
  {
   "cell_type": "code",
   "execution_count": 79,
   "metadata": {},
   "outputs": [],
   "source": [
    "from pycm import *"
   ]
  },
  {
   "cell_type": "code",
   "execution_count": 238,
   "metadata": {},
   "outputs": [],
   "source": [
    "cm = ConfusionMatrix(actual_vector=test[\"isAdHominem\"].values == 1, predict_vector= test_predicted[:,0] < topValue)"
   ]
  },
  {
   "cell_type": "code",
   "execution_count": 222,
   "metadata": {},
   "outputs": [],
   "source": [
    "cm = ConfusionMatrix(matrix={0:{ 0:7652, 1:378 },1:{ 0:497, 1:262 }})"
   ]
  },
  {
   "cell_type": "code",
   "execution_count": null,
   "metadata": {},
   "outputs": [
    {
     "name": "stdout",
     "output_type": "stream",
     "text": [
      "Based on the training data, the threshold is set at 0.9299999999999999.\n",
      "----- 1 -----\n",
      "1,0.8282733559957801,0.8181818181818182,0.6473938617436374,0.4477949491142103\n",
      "Based on the training data, the threshold is set at 0.9299999999999999.\n",
      "----- 2 -----\n",
      "2,0.744813034814207,0.9022038567493113,0.6323768227967168,0.3756811012331517\n",
      "Based on the training data, the threshold is set at 0.8300000000000001.\n",
      "----- 3 -----\n",
      "3,0.6578361270659946,0.9545454545454546,0.5847824820918992,0.32195121951219513\n",
      "Based on the training data, the threshold is set at 0.52.\n",
      "----- 4 -----\n",
      "4,0.8993084046418943,0.7011019283746557,0.6188469636084801,0.5423548215237081\n",
      "Based on the training data, the threshold is set at 0.78.\n",
      "----- 5 -----\n",
      "5,0.6989801898956746,0.9462809917355371,0.6222579295958832,0.3485540334855403\n",
      "Based on the training data, the threshold is set at 0.51.\n",
      "----- 6 -----\n",
      "6,0.6918297972101747,0.9435261707988981,0.611943851772633,0.3425856464116029\n",
      "Based on the training data, the threshold is set at 0.5.\n",
      "----- 7 -----\n",
      "7,0.8130348142070097,0.8663911845730028,0.6744629334519265,0.4409393620750088\n",
      "Based on the training data, the threshold is set at 0.5.\n",
      "----- 8 -----\n",
      "8,0.8167858398780916,0.8663911845730028,0.6785628693904275,0.44594115561857495\n",
      "Based on the training data, the threshold is set at 0.5.\n"
     ]
    }
   ],
   "source": [
    "for i in range(1, 10):\n",
    "    train_predicted = model.predict({'word2vec': train_vectors, 'doc2vec': train_doc_vectors, 'pos_tags': train_tags})\n",
    "    aucValues = np.array(list(getAUC(steps)), float)\n",
    "    topValue = aucValues[ aucValues[:,1].max() == aucValues[:,1]][0,0]\n",
    "    print(\"Based on the training data, the threshold is set at {}.\". format(topValue))\n",
    "    \n",
    "    model.load_weights('../../model_catastrophic_0{}.h5'.format(i))\n",
    "    test_predicted = model.predict({'word2vec': test_vectors, 'doc2vec': test_doc_vectors, 'pos_tags': test_tags})\n",
    "    cm = ConfusionMatrix(actual_vector=test[\"isAdHominem\"].values == 1, predict_vector= test_predicted[:,0] < topValue)\n",
    "    print(\"----- {} -----\".format(i))\n",
    "    print(\"{},{},{},{},{}\".format(i, cm.Overall_ACC, \n",
    "                                     cm.class_stat['TPR'][True],\n",
    "                                     cm.class_stat['GI'][True],\n",
    "                                     cm.class_stat['F1'][True]))"
   ]
  },
  {
   "cell_type": "code",
   "execution_count": 95,
   "metadata": {},
   "outputs": [
    {
     "data": {
      "text/plain": [
       "array([False, False, False, ..., False, False, False])"
      ]
     },
     "execution_count": 95,
     "metadata": {},
     "output_type": "execute_result"
    }
   ],
   "source": [
    "test[\"isAdHominem\"].values == 1"
   ]
  },
  {
   "cell_type": "code",
   "execution_count": 241,
   "metadata": {},
   "outputs": [
    {
     "name": "stdout",
     "output_type": "stream",
     "text": [
      "Predict          False    True     \n",
      "Actual\n",
      "False            6210     1595     \n",
      "\n",
      "True             94       632      \n",
      "\n",
      "\n",
      "\n",
      "\n",
      "\n",
      "Overall Statistics : \n",
      "\n",
      "95% CI                                                           (0.79356,0.81047)\n",
      "AUNP                                                             0.83308\n",
      "AUNU                                                             0.83308\n",
      "Bennett S                                                        0.60403\n",
      "CBA                                                              0.53972\n",
      "Chi-Squared                                                      1528.0571\n",
      "Chi-Squared DF                                                   1\n",
      "Conditional Entropy                                              0.7157\n",
      "Cramer V                                                         0.42322\n",
      "Cross Entropy                                                    0.5642\n",
      "Gwet AC1                                                         0.72262\n",
      "Hamming Loss                                                     0.19798\n",
      "Joint Entropy                                                    1.1356\n",
      "KL Divergence                                                    0.14429\n",
      "Kappa                                                            0.34381\n",
      "Kappa 95% CI                                                     (0.31579,0.37184)\n",
      "Kappa No Prevalence                                              0.60403\n",
      "Kappa Standard Error                                             0.0143\n",
      "Kappa Unbiased                                                   0.30833\n",
      "Lambda A                                                         0.0\n",
      "Lambda B                                                         0.24158\n",
      "Mutual Information                                               0.11262\n",
      "NIR                                                              0.9149\n",
      "Overall ACC                                                      0.80202\n",
      "Overall CEN                                                      0.4443\n",
      "Overall J                                                        (1.05847,0.52924)\n",
      "Overall MCC                                                      0.42322\n",
      "Overall MCEN                                                     0.32707\n",
      "Overall RACC                                                     0.69828\n",
      "Overall RACCU                                                    0.71376\n",
      "P-Value                                                          None\n",
      "PPV Macro                                                        0.63444\n",
      "PPV Micro                                                        0.80202\n",
      "Phi-Squared                                                      0.17912\n",
      "RCI                                                              0.26821\n",
      "RR                                                               4265.5\n",
      "Reference Entropy                                                0.4199\n",
      "Response Entropy                                                 0.82832\n",
      "SOA1(Landis & Koch)                                              Fair\n",
      "SOA2(Fleiss)                                                     Poor\n",
      "SOA3(Altman)                                                     Fair\n",
      "SOA4(Cicchetti)                                                  Poor\n",
      "Scott PI                                                         0.30833\n",
      "Standard Error                                                   0.00431\n",
      "TPR Macro                                                        0.83308\n",
      "TPR Micro                                                        0.80202\n",
      "Zero-one Loss                                                    1689\n",
      "\n",
      "Class Statistics :\n",
      "\n",
      "Classes                                                          False                   True                    \n",
      "ACC(Accuracy)                                                    0.80202                 0.80202                 \n",
      "AUC(Area under the roc curve)                                    0.83308                 0.83308                 \n",
      "AUCI(Auc value interpretation)                                   Very Good               Very Good               \n",
      "BM(Informedness or bookmaker informedness)                       0.66617                 0.66617                 \n",
      "CEN(Confusion entropy)                                           0.4037                  0.63828                 \n",
      "DOR(Diagnostic odds ratio)                                       26.17702                26.17702                \n",
      "DP(Discriminant power)                                           0.78174                 0.78174                 \n",
      "DPI(Discriminant power interpretation)                           Poor                    Poor                    \n",
      "ERR(Error rate)                                                  0.19798                 0.19798                 \n",
      "F0.5(F0.5 score)                                                 0.94031                 0.328                   \n",
      "F1(F1 score - harmonic mean of precision and sensitivity)        0.88029                 0.42804                 \n",
      "F2(F2 score)                                                     0.82747                 0.61586                 \n",
      "FDR(False discovery rate)                                        0.01491                 0.71621                 \n",
      "FN(False negative/miss/type 2 error)                             1595                    94                      \n",
      "FNR(Miss rate or false negative rate)                            0.20436                 0.12948                 \n",
      "FOR(False omission rate)                                         0.71621                 0.01491                 \n",
      "FP(False positive/type 1 error/false alarm)                      94                      1595                    \n",
      "FPR(Fall-out or false positive rate)                             0.12948                 0.20436                 \n",
      "G(G-measure geometric mean of precision and sensitivity)         0.88531                 0.49704                 \n",
      "GI(Gini index)                                                   0.66617                 0.66617                 \n",
      "IS(Information score)                                            0.10664                 1.73757                 \n",
      "J(Jaccard index)                                                 0.78618                 0.2723                  \n",
      "LS(Lift score)                                                   1.07672                 3.33473                 \n",
      "MCC(Matthews correlation coefficient)                            0.42322                 0.42322                 \n",
      "MCEN(Modified confusion entropy)                                 0.54214                 0.55926                 \n",
      "MK(Markedness)                                                   0.26888                 0.26888                 \n",
      "N(Condition negative)                                            726                     7805                    \n",
      "NLR(Negative likelihood ratio)                                   0.23475                 0.16273                 \n",
      "NPV(Negative predictive value)                                   0.28379                 0.98509                 \n",
      "P(Condition positive or support)                                 7805                    726                     \n",
      "PLR(Positive likelihood ratio)                                   6.14508                 4.25983                 \n",
      "PLRI(Positive likelihood ratio interpretation)                   Fair                    Poor                    \n",
      "POP(Population)                                                  8531                    8531                    \n",
      "PPV(Precision or positive predictive value)                      0.98509                 0.28379                 \n",
      "PRE(Prevalence)                                                  0.9149                  0.0851                  \n",
      "RACC(Random accuracy)                                            0.67607                 0.02222                 \n",
      "RACCU(Random accuracy unbiased)                                  0.68381                 0.02995                 \n",
      "TN(True negative/correct rejection)                              632                     6210                    \n",
      "TNR(Specificity or true negative rate)                           0.87052                 0.79564                 \n",
      "TON(Test outcome negative)                                       2227                    6304                    \n",
      "TOP(Test outcome positive)                                       6304                    2227                    \n",
      "TP(True positive/hit)                                            6210                    632                     \n",
      "TPR(Sensitivity, recall, hit rate, or true positive rate)        0.79564                 0.87052                 \n",
      "Y(Youden index)                                                  0.66617                 0.66617                 \n",
      "dInd(Distance index)                                             0.24192                 0.24192                 \n",
      "sInd(Similarity index)                                           0.82894                 0.82894                 \n",
      "\n"
     ]
    }
   ],
   "source": [
    "print(cm)"
   ]
  },
  {
   "cell_type": "code",
   "execution_count": 149,
   "metadata": {},
   "outputs": [
    {
     "data": {
      "text/plain": [
       "250"
      ]
     },
     "execution_count": 149,
     "metadata": {},
     "output_type": "execute_result"
    }
   ],
   "source": [
    "maxLength"
   ]
  },
  {
   "cell_type": "code",
   "execution_count": 172,
   "metadata": {},
   "outputs": [
    {
     "data": {
      "text/plain": [
       "{'actual_vector': array([False, False, False, ..., False, False, False]),\n",
       " 'predict_vector': array([False, False,  True, ..., False, False,  True]),\n",
       " 'digit': 5,\n",
       " 'weights': None,\n",
       " 'transpose': False,\n",
       " 'classes': [False, True],\n",
       " 'table': {False: {False: 5907, True: 1082}, True: {False: 177, True: 475}},\n",
       " 'matrix': {False: {False: 5907, True: 1082}, True: {False: 177, True: 475}},\n",
       " 'normalized_table': {False: {False: 0.84519, True: 0.15481},\n",
       "  True: {False: 0.27147, True: 0.72853}},\n",
       " 'normalized_matrix': {False: {False: 0.84519, True: 0.15481},\n",
       "  True: {False: 0.27147, True: 0.72853}},\n",
       " 'TP': {False: 5907, True: 475},\n",
       " 'TN': {False: 475, True: 5907},\n",
       " 'FP': {False: 177, True: 1082},\n",
       " 'FN': {False: 1082, True: 177},\n",
       " 'class_stat': {'TPR': {False: 0.8451852911718415, True: 0.7285276073619632},\n",
       "  'TNR': {False: 0.7285276073619632, True: 0.8451852911718415},\n",
       "  'PPV': {False: 0.9709072978303748, True: 0.3050738599871548},\n",
       "  'NPV': {False: 0.3050738599871548, True: 0.9709072978303748},\n",
       "  'FNR': {False: 0.1548147088281585, True: 0.2714723926380368},\n",
       "  'FPR': {False: 0.2714723926380368, True: 0.1548147088281585},\n",
       "  'FDR': {False: 0.02909270216962523, True: 0.6949261400128453},\n",
       "  'FOR': {False: 0.6949261400128453, True: 0.02909270216962523},\n",
       "  'ACC': {False: 0.8352309907080225, True: 0.8352309907080225},\n",
       "  'F1': {False: 0.9036946378031057, True: 0.43005885015844275},\n",
       "  'MCC': {False: 0.3979119877462983, True: 0.3979119877462983},\n",
       "  'BM': {False: 0.5737128985338047, True: 0.5737128985338047},\n",
       "  'MK': {False: 0.2759811578175295, True: 0.2759811578175295},\n",
       "  'PLR': {False: 3.1133379087233934, True: 4.705803556240999},\n",
       "  'NLR': {False: 0.21250355822307232, True: 0.3211986714317317},\n",
       "  'DOR': {False: 14.65075660265046, True: 14.650756602650462},\n",
       "  'TP': {False: 5907, True: 475},\n",
       "  'TN': {False: 475, True: 5907},\n",
       "  'FP': {False: 177, True: 1082},\n",
       "  'FN': {False: 1082, True: 177},\n",
       "  'POP': {False: 7641, True: 7641},\n",
       "  'P': {False: 6989, True: 652},\n",
       "  'N': {False: 652, True: 6989},\n",
       "  'TOP': {False: 6084, True: 1557},\n",
       "  'TON': {False: 1557, True: 6084},\n",
       "  'PRE': {False: 0.9146708546001833, True: 0.08532914539981677},\n",
       "  'G': {False: 0.9058678530655733, True: 0.4714389984771311},\n",
       "  'RACC': {False: 0.7282891610244098, True: 0.017387446589126387},\n",
       "  'F0.5': {False: 0.9428571428571428, True: 0.345203488372093},\n",
       "  'F2': {False: 0.8676556991774383, True: 0.5702280912364946},\n",
       "  'ERR': {False: 0.16476900929197746, True: 0.16476900929197746},\n",
       "  'RACCU': {False: 0.731796169114398, True: 0.02089445467911462},\n",
       "  'J': {False: 0.8243092380686575, True: 0.27393310265282583},\n",
       "  'IS': {False: 0.08608087253603028, True: 1.8380480649035464},\n",
       "  'CEN': {False: 0.381563397208966, True: 0.7961457718691654},\n",
       "  'MCEN': {False: 0.5437041951928568, True: 0.7606288951620448},\n",
       "  'AUC': {False: 0.7868564492669023, True: 0.7868564492669023},\n",
       "  'sInd': {False: 0.7790193967401574, True: 0.7790193967401574},\n",
       "  'dInd': {False: 0.3125137661514576, True: 0.3125137661514576},\n",
       "  'DP': {False: 0.6427723354300069, True: 0.6427723354300069},\n",
       "  'Y': {False: 0.5737128985338047, True: 0.5737128985338047},\n",
       "  'PLRI': {False: 'Poor', True: 'Poor'},\n",
       "  'DPI': {False: 'Poor', True: 'Poor'},\n",
       "  'AUCI': {False: 'Good', True: 'Good'},\n",
       "  'GI': {False: 0.5737128985338047, True: 0.5737128985338047},\n",
       "  'LS': {False: 1.0614827103622684, True: 3.5752597609844328}},\n",
       " 'overall_stat': {'Overall ACC': 0.8352309907080225,\n",
       "  'Kappa': 0.3521279826214399,\n",
       "  'Overall RACC': 0.7456766076135362,\n",
       "  'SOA1(Landis & Koch)': 'Fair',\n",
       "  'SOA2(Fleiss)': 'Poor',\n",
       "  'SOA3(Altman)': 'Fair',\n",
       "  'SOA4(Cicchetti)': 'Poor',\n",
       "  'TPR Macro': 0.7868564492669023,\n",
       "  'PPV Macro': 0.6379905789087648,\n",
       "  'TPR Micro': 0.8352309907080225,\n",
       "  'PPV Micro': 0.8352309907080225,\n",
       "  'Scott PI': 0.33375348796154813,\n",
       "  'Gwet AC1': 0.7810933149910222,\n",
       "  'Bennett S': 0.6704619814160451,\n",
       "  'Kappa Standard Error': 0.016687053468716607,\n",
       "  'Kappa 95% CI': (0.3194213578227554, 0.38483460742012443),\n",
       "  'Chi-Squared': 1209.8297118904784,\n",
       "  'Phi-Squared': 0.15833394999221023,\n",
       "  'Cramer V': 0.39791198774629827,\n",
       "  'Chi-Squared DF': 1,\n",
       "  '95% CI': (0.8269129309357098, 0.8435490504803352),\n",
       "  'Standard Error': 0.004243908047098316,\n",
       "  'Response Entropy': 0.7294026254047347,\n",
       "  'Reference Entropy': 0.42068388104868604,\n",
       "  'Cross Entropy': 0.4965198425459281,\n",
       "  'Joint Entropy': 1.0613698731403125,\n",
       "  'Conditional Entropy': 0.6406859920916264,\n",
       "  'KL Divergence': 0.07583596149724207,\n",
       "  'Lambda B': 0.1913937058445729,\n",
       "  'Lambda A': 0.0,\n",
       "  'Kappa Unbiased': 0.33375348796154813,\n",
       "  'Overall RACCU': 0.7526906237935127,\n",
       "  'Kappa No Prevalence': 0.6704619814160451,\n",
       "  'Mutual Information': 0.0887166333131083,\n",
       "  'Overall J': (1.0982423407214834, 0.5491211703607417),\n",
       "  'Hamming Loss': 0.1647690092919775,\n",
       "  'Zero-one Loss': 1259,\n",
       "  'NIR': 0.9146708546001833,\n",
       "  'P-Value': 'None',\n",
       "  'Overall CEN': 0.44149092407877233,\n",
       "  'Overall MCEN': 0.3412586550819917,\n",
       "  'Overall MCC': 0.3979119877462983,\n",
       "  'RR': 3820.5,\n",
       "  'CBA': 0.5751295755794982,\n",
       "  'AUNU': 0.7868564492669023,\n",
       "  'AUNP': 0.7868564492669023,\n",
       "  'RCI': 0.2108866949975701},\n",
       " 'TPR': {False: 0.8451852911718415, True: 0.7285276073619632},\n",
       " 'TNR': {False: 0.7285276073619632, True: 0.8451852911718415},\n",
       " 'PPV': {False: 0.9709072978303748, True: 0.3050738599871548},\n",
       " 'NPV': {False: 0.3050738599871548, True: 0.9709072978303748},\n",
       " 'FNR': {False: 0.1548147088281585, True: 0.2714723926380368},\n",
       " 'FPR': {False: 0.2714723926380368, True: 0.1548147088281585},\n",
       " 'FDR': {False: 0.02909270216962523, True: 0.6949261400128453},\n",
       " 'FOR': {False: 0.6949261400128453, True: 0.02909270216962523},\n",
       " 'ACC': {False: 0.8352309907080225, True: 0.8352309907080225},\n",
       " 'F1': {False: 0.9036946378031057, True: 0.43005885015844275},\n",
       " 'MCC': {False: 0.3979119877462983, True: 0.3979119877462983},\n",
       " 'BM': {False: 0.5737128985338047, True: 0.5737128985338047},\n",
       " 'MK': {False: 0.2759811578175295, True: 0.2759811578175295},\n",
       " 'DOR': {False: 14.65075660265046, True: 14.650756602650462},\n",
       " 'PLR': {False: 3.1133379087233934, True: 4.705803556240999},\n",
       " 'NLR': {False: 0.21250355822307232, True: 0.3211986714317317},\n",
       " 'POP': {False: 7641, True: 7641},\n",
       " 'P': {False: 6989, True: 652},\n",
       " 'N': {False: 652, True: 6989},\n",
       " 'TOP': {False: 6084, True: 1557},\n",
       " 'TON': {False: 1557, True: 6084},\n",
       " 'PRE': {False: 0.9146708546001833, True: 0.08532914539981677},\n",
       " 'G': {False: 0.9058678530655733, True: 0.4714389984771311},\n",
       " 'RACC': {False: 0.7282891610244098, True: 0.017387446589126387},\n",
       " 'RACCU': {False: 0.731796169114398, True: 0.02089445467911462},\n",
       " 'F2': {False: 0.8676556991774383, True: 0.5702280912364946},\n",
       " 'F05': {False: 0.9428571428571428, True: 0.345203488372093},\n",
       " 'ERR': {False: 0.16476900929197746, True: 0.16476900929197746},\n",
       " 'J': {False: 0.8243092380686575, True: 0.27393310265282583},\n",
       " 'IS': {False: 0.08608087253603028, True: 1.8380480649035464},\n",
       " 'CEN': {False: 0.381563397208966, True: 0.7961457718691654},\n",
       " 'MCEN': {False: 0.5437041951928568, True: 0.7606288951620448},\n",
       " 'AUC': {False: 0.7868564492669023, True: 0.7868564492669023},\n",
       " 'dInd': {False: 0.3125137661514576, True: 0.3125137661514576},\n",
       " 'sInd': {False: 0.7790193967401574, True: 0.7790193967401574},\n",
       " 'DP': {False: 0.6427723354300069, True: 0.6427723354300069},\n",
       " 'Y': {False: 0.5737128985338047, True: 0.5737128985338047},\n",
       " 'PLRI': {False: 'Poor', True: 'Poor'},\n",
       " 'DPI': {False: 'Poor', True: 'Poor'},\n",
       " 'AUCI': {False: 'Good', True: 'Good'},\n",
       " 'GI': {False: 0.5737128985338047, True: 0.5737128985338047},\n",
       " 'LS': {False: 1.0614827103622684, True: 3.5752597609844328},\n",
       " 'Overall_J': (1.0982423407214834, 0.5491211703607417),\n",
       " 'SOA1': 'Fair',\n",
       " 'SOA2': 'Poor',\n",
       " 'SOA3': 'Fair',\n",
       " 'SOA4': 'Poor',\n",
       " 'Kappa': 0.3521279826214399,\n",
       " 'Overall_ACC': 0.8352309907080225,\n",
       " 'TPR_Macro': 0.7868564492669023,\n",
       " 'PPV_Macro': 0.6379905789087648,\n",
       " 'TPR_Micro': 0.8352309907080225,\n",
       " 'PPV_Micro': 0.8352309907080225,\n",
       " 'Overall_RACC': 0.7456766076135362,\n",
       " 'Overall_RACCU': 0.7526906237935127,\n",
       " 'PI': 0.33375348796154813,\n",
       " 'AC1': 0.7810933149910222,\n",
       " 'S': 0.6704619814160451,\n",
       " 'Kappa_SE': 0.016687053468716607,\n",
       " 'Kappa_CI': (0.3194213578227554, 0.38483460742012443),\n",
       " 'Chi_Squared': 1209.8297118904784,\n",
       " 'Phi_Squared': 0.15833394999221023,\n",
       " 'KappaUnbiased': 0.33375348796154813,\n",
       " 'KappaNoPrevalence': 0.6704619814160451,\n",
       " 'V': 0.39791198774629827,\n",
       " 'DF': 1,\n",
       " 'CI': (0.8269129309357098, 0.8435490504803352),\n",
       " 'SE': 0.004243908047098316,\n",
       " 'ReferenceEntropy': 0.42068388104868604,\n",
       " 'ResponseEntropy': 0.7294026254047347,\n",
       " 'CrossEntropy': 0.4965198425459281,\n",
       " 'JointEntropy': 1.0613698731403125,\n",
       " 'ConditionalEntropy': 0.6406859920916264,\n",
       " 'MutualInformation': 0.0887166333131083,\n",
       " 'KL': 0.07583596149724207,\n",
       " 'LambdaB': 0.1913937058445729,\n",
       " 'LambdaA': 0.0,\n",
       " 'HammingLoss': 0.1647690092919775,\n",
       " 'ZeroOneLoss': 1259,\n",
       " 'NIR': 0.9146708546001833,\n",
       " 'PValue': 'None',\n",
       " 'Overall_CEN': 0.44149092407877233,\n",
       " 'Overall_MCEN': 0.3412586550819917,\n",
       " 'Overall_MCC': 0.3979119877462983,\n",
       " 'RR': 3820.5,\n",
       " 'CBA': 0.5751295755794982,\n",
       " 'AUNU': 0.7868564492669023,\n",
       " 'AUNP': 0.7868564492669023,\n",
       " 'RCI': 0.2108866949975701}"
      ]
     },
     "execution_count": 172,
     "metadata": {},
     "output_type": "execute_result"
    }
   ],
   "source": [
    "cm.__dict__"
   ]
  },
  {
   "cell_type": "code",
   "execution_count": 176,
   "metadata": {},
   "outputs": [
    {
     "name": "stdout",
     "output_type": "stream",
     "text": [
      "0.8352309907080225\n"
     ]
    }
   ],
   "source": [
    "print(cm.Overall_ACC)"
   ]
  },
  {
   "cell_type": "code",
   "execution_count": 255,
   "metadata": {},
   "outputs": [
    {
     "data": {
      "text/plain": [
       "0.4200066247101689"
      ]
     },
     "execution_count": 255,
     "metadata": {},
     "output_type": "execute_result"
    }
   ],
   "source": [
    "cm.class_stat['F1'][True]"
   ]
  },
  {
   "cell_type": "code",
   "execution_count": null,
   "metadata": {},
   "outputs": [],
   "source": []
  }
 ],
 "metadata": {
  "kernelspec": {
   "display_name": "Python 3",
   "language": "python",
   "name": "python3"
  },
  "language_info": {
   "codemirror_mode": {
    "name": "ipython",
    "version": 3
   },
   "file_extension": ".py",
   "mimetype": "text/x-python",
   "name": "python",
   "nbconvert_exporter": "python",
   "pygments_lexer": "ipython3",
   "version": "3.6.7"
  }
 },
 "nbformat": 4,
 "nbformat_minor": 2
}
